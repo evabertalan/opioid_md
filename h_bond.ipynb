{
 "cells": [
  {
   "cell_type": "code",
   "execution_count": 52,
   "metadata": {},
   "outputs": [],
   "source": [
    "import numpy as np\n",
    "import MDAnalysis as mda\n",
    "# import matplotlib.pyplot as plt\n",
    "# import pandas as pd\n",
    "import analyse\n",
    "import hbond\n",
    "import importlib"
   ]
  },
  {
   "cell_type": "code",
   "execution_count": 53,
   "metadata": {},
   "outputs": [
    {
     "data": {
      "text/plain": [
       "<module 'hbond' from '/home/bertalae93/Documents/research_project/code/hbond.py'>"
      ]
     },
     "execution_count": 53,
     "metadata": {},
     "output_type": "execute_result"
    }
   ],
   "source": [
    "importlib.reload(hbond)"
   ]
  },
  {
   "cell_type": "code",
   "execution_count": 4,
   "metadata": {},
   "outputs": [
    {
     "name": "stdout",
     "output_type": "stream",
     "text": [
      "../4djhA/results/step5_assembly.xplor_ext.psf\n"
     ]
    }
   ],
   "source": [
    "results_folder = '../4djhA/results/'\n",
    "folder = '../4djhA/'\n",
    "traj_file = results_folder + 'namd/step7.2_production.dcd'\n",
    "print(results_folder+'step5_assembly.xplor_ext.psf')"
   ]
  },
  {
   "cell_type": "code",
   "execution_count": 5,
   "metadata": {},
   "outputs": [],
   "source": [
    "u =  mda.Universe(results_folder+'step5_assembly.xplor_ext.psf', traj_file)\n",
    "ref = mda.Universe('../4djhA/4djh_inp.pdb')"
   ]
  },
  {
   "cell_type": "code",
   "execution_count": 6,
   "metadata": {},
   "outputs": [
    {
     "data": {
      "image/png": "[encoded data removed]",
      "text/plain": [
       "<Figure size 720x360 with 1 Axes>"
      ]
     },
     "metadata": {
      "needs_background": "light"
     },
     "output_type": "display_data"
    }
   ],
   "source": [
    "title = 'RMSD of C-alpha atoms over production steps'\n",
    "R, r_fig = analyse.rmsd_traj(u, ref, title)"
   ]
  },
  {
   "cell_type": "code",
   "execution_count": 54,
   "metadata": {},
   "outputs": [],
   "source": [
    "h_bond = hbond.HBond()"
   ]
  },
  {
   "cell_type": "code",
   "execution_count": 55,
   "metadata": {},
   "outputs": [
    {
     "data": {
      "text/plain": [
       "<MDAnalysis.analysis.hbonds.hbond_analysis.HydrogenBondAnalysis at 0x7f50ca9625f8>"
      ]
     },
     "execution_count": 55,
     "metadata": {},
     "output_type": "execute_result"
    }
   ],
   "source": [
    "h_bond.prot_prot(u)"
   ]
  },
  {
   "cell_type": "code",
   "execution_count": 56,
   "metadata": {},
   "outputs": [
    {
     "name": "stdout",
     "output_type": "stream",
     "text": [
      "               time  donor_index  acceptor_index donor_resnm  donor_resid  \\\n",
      "0       8950.000027           71              26         VAL            6   \n",
      "1       8950.000027           71              36         VAL            6   \n",
      "2       8950.000027           87              36         ILE            7   \n",
      "3       8950.000027          106              55         ILE            8   \n",
      "4       8950.000027          125              69         THR            9   \n",
      "5       8950.000027          131              69         THR            9   \n",
      "6       8950.000027          139              85         ALA           10   \n",
      "7       8950.000027          139             104         ALA           10   \n",
      "8       8950.000027          149             104         VAL           11   \n",
      "9       8950.000027          165             123         TYR           12   \n",
      "10      8950.000027          186             137         SER           13   \n",
      "11      8950.000027          193             137         SER           13   \n",
      "12      8950.000027          197             147         VAL           14   \n",
      "13      8950.000027          197             163         VAL           14   \n",
      "14      8950.000027          213             163         VAL           15   \n",
      "15      8950.000027          229             184         PHE           16   \n",
      "16      8950.000027          249             195         VAL           17   \n",
      "17      8950.000027          265             211         VAL           18   \n",
      "18      8950.000027          281             227         GLY           19   \n",
      "19      8950.000027          288             247         LEU           20   \n",
      "20      8950.000027          307             263         VAL           21   \n",
      "21      8950.000027          323             279         GLY           22   \n",
      "22      8950.000027          330             286         ASN           23   \n",
      "23      8950.000027          339             773         ASN           23   \n",
      "24      8950.000027          344             305         SER           24   \n",
      "25      8950.000027          351             305         SER           24   \n",
      "26      8950.000027          355             321         LEU           25   \n",
      "27      8950.000027          374             328         VAL           26   \n",
      "28      8950.000027          390             342         MET           27   \n",
      "29      8950.000027          407             353         PHE           28   \n",
      "...             ...          ...             ...         ...          ...   \n",
      "33125  10000.000030         4164            4121         TYR          258   \n",
      "33126  10000.000030         4185            4140         TYR          259   \n",
      "33127  10000.000030         4206            4151         PHE          260   \n",
      "33128  10000.000030         4226            4162         CYS          261   \n",
      "33129  10000.000030         4233            4162         CYS          261   \n",
      "33130  10000.000030         4237            4183         ILE          262   \n",
      "33131  10000.000030         4237            4204         ILE          262   \n",
      "33132  10000.000030         4256            4204         ALA          263   \n",
      "33133  10000.000030         4266            4224         LEU          264   \n",
      "33134  10000.000030         4285            4235         GLY          265   \n",
      "33135  10000.000030         4285            4254         GLY          265   \n",
      "33136  10000.000030         4292            4254         TYR          266   \n",
      "33137  10000.000030         4313            4264         THR          267   \n",
      "33138  10000.000030         4319            4264         THR          267   \n",
      "33139  10000.000030         4327            4283         ASN          268   \n",
      "33140  10000.000030         4327            4290         ASN          268   \n",
      "33141  10000.000030         4341            4290         SER          269   \n",
      "33142  10000.000030         4348             811         SER          269   \n",
      "33143  10000.000030         4352            4325         SER          270   \n",
      "33144  10000.000030         4359             227         SER          270   \n",
      "33145  10000.000030         4363            4325         LEU          271   \n",
      "33146  10000.000030         4382            4339         ASN          272   \n",
      "33147  10000.000030         4391             812         ASN          272   \n",
      "33148  10000.000030         4410            4361         ILE          274   \n",
      "33149  10000.000030         4429            4380         LEU          275   \n",
      "33150  10000.000030         4448            4394         TYR          276   \n",
      "33151  10000.000030         4461            4389         TYR          276   \n",
      "33152  10000.000030         4469            4408         ALA          277   \n",
      "33153  10000.000030         4479            4427         PHE          278   \n",
      "33154  10000.000030         4499            4446         LEU          279   \n",
      "\n",
      "      donor_atom acceptor_resnm  acceptor_resid acceptor_atom  distance  \\\n",
      "0             HN            PRO               2             O  2.596075   \n",
      "1             HN            ALA               3             O  2.632348   \n",
      "2             HN            ALA               3             O  2.062671   \n",
      "3             HN            ILE               4             O  2.044958   \n",
      "4             HN            PRO               5             O  2.228032   \n",
      "5            HG1            PRO               5             O  1.765075   \n",
      "6             HN            VAL               6             O  2.251398   \n",
      "7             HN            ILE               7             O  2.443436   \n",
      "8             HN            ILE               7             O  2.303659   \n",
      "9             HN            ILE               8             O  1.720735   \n",
      "10            HN            THR               9             O  2.212951   \n",
      "11           HG1            THR               9             O  1.691201   \n",
      "12            HN            ALA              10             O  2.151825   \n",
      "13            HN            VAL              11             O  2.759430   \n",
      "14            HN            VAL              11             O  2.008354   \n",
      "15            HN            TYR              12             O  2.015496   \n",
      "16            HN            SER              13             O  2.390266   \n",
      "17            HN            VAL              14             O  2.075324   \n",
      "18            HN            VAL              15             O  2.626368   \n",
      "19            HN            PHE              16             O  2.114695   \n",
      "20            HN            VAL              17             O  2.615671   \n",
      "21            HN            VAL              18             O  2.306702   \n",
      "22            HN            GLY              19             O  1.815806   \n",
      "23          HD21            ALA              48             O  2.409438   \n",
      "24            HN            LEU              20             O  1.727811   \n",
      "25           HG1            LEU              20             O  2.035678   \n",
      "26            HN            VAL              21             O  2.091582   \n",
      "27            HN            GLY              22             O  1.942111   \n",
      "28            HN            ASN              23             O  2.050100   \n",
      "29            HN            SER              24             O  2.267552   \n",
      "...          ...            ...             ...           ...       ...   \n",
      "33125         HN            ALA             254             O  2.138710   \n",
      "33126         HN            LEU             255             O  1.876647   \n",
      "33127         HN            SER             256             O  2.169248   \n",
      "33128         HN            SER             257             O  2.378639   \n",
      "33129        HG1            SER             257             O  1.861233   \n",
      "33130         HN            TYR             258             O  1.960982   \n",
      "33131         HN            TYR             259             O  2.924904   \n",
      "33132         HN            TYR             259             O  2.140449   \n",
      "33133         HN            PHE             260             O  2.150313   \n",
      "33134         HN            CYS             261             O  2.482097   \n",
      "33135         HN            ILE             262             O  2.575058   \n",
      "33136         HN            ILE             262             O  1.949956   \n",
      "33137         HN            ALA             263             O  1.856030   \n",
      "33138        HG1            ALA             263             O  1.855762   \n",
      "33139         HN            LEU             264             O  2.229542   \n",
      "33140         HN            GLY             265             O  2.576171   \n",
      "33141         HN            GLY             265             O  2.424200   \n",
      "33142        HG1            ASP              51           OD1  1.935991   \n",
      "33143         HN            THR             267             O  2.117767   \n",
      "33144        HG1            VAL              15             O  2.181537   \n",
      "33145         HN            THR             267             O  1.994273   \n",
      "33146         HN            ASN             268             O  2.123269   \n",
      "33147       HD21            ASP              51           OD2  1.825221   \n",
      "33148         HN            SER             270             O  2.280913   \n",
      "33149         HN            LEU             271             O  2.342712   \n",
      "33150         HN            ASN             272             O  2.789517   \n",
      "33151         HH            ASN             272           OD1  1.767869   \n",
      "33152         HN            PRO             273             O  1.916347   \n",
      "33153         HN            ILE             274             O  1.968702   \n",
      "33154         HN            LEU             275             O  2.490580   \n",
      "\n",
      "            angle  \n",
      "0      139.531498  \n",
      "1      120.266492  \n",
      "2      150.794183  \n",
      "3      164.417727  \n",
      "4      139.174646  \n",
      "5      166.194566  \n",
      "6      125.905435  \n",
      "7      141.082600  \n",
      "8      172.165008  \n",
      "9      171.948995  \n",
      "10     148.845294  \n",
      "11     165.894891  \n",
      "12     144.708048  \n",
      "13     121.250883  \n",
      "14     165.702981  \n",
      "15     159.100033  \n",
      "16     154.779361  \n",
      "17     170.792334  \n",
      "18     151.663171  \n",
      "19     167.841699  \n",
      "20     146.379195  \n",
      "21     159.502424  \n",
      "22     158.253445  \n",
      "23     150.201483  \n",
      "24     174.272144  \n",
      "25     137.581465  \n",
      "26     155.147879  \n",
      "27     162.878032  \n",
      "28     167.592834  \n",
      "29     175.455351  \n",
      "...           ...  \n",
      "33125  161.578189  \n",
      "33126  166.257336  \n",
      "33127  155.331821  \n",
      "33128  138.391149  \n",
      "33129  166.536223  \n",
      "33130  149.591809  \n",
      "33131  122.789888  \n",
      "33132  163.425931  \n",
      "33133  157.505658  \n",
      "33134  142.584481  \n",
      "33135  129.684459  \n",
      "33136  161.799410  \n",
      "33137  147.127846  \n",
      "33138  177.942969  \n",
      "33139  137.571998  \n",
      "33140  124.061511  \n",
      "33141  171.247767  \n",
      "33142  175.248100  \n",
      "33143  153.725388  \n",
      "33144  142.102363  \n",
      "33145  171.851647  \n",
      "33146  151.231378  \n",
      "33147  162.809592  \n",
      "33148  157.736638  \n",
      "33149  167.263083  \n",
      "33150  149.225153  \n",
      "33151  158.442822  \n",
      "33152  168.020066  \n",
      "33153  171.328381  \n",
      "33154  125.972593  \n",
      "\n",
      "[33155 rows x 11 columns]\n"
     ]
    }
   ],
   "source": [
    "h_bond.print_table()"
   ]
  },
  {
   "cell_type": "code",
   "execution_count": 57,
   "metadata": {},
   "outputs": [
    {
     "data": {
      "image/png": "[encoded data removed]",
      "text/plain": [
       "<Figure size 432x288 with 1 Axes>"
      ]
     },
     "metadata": {
      "needs_background": "light"
     },
     "output_type": "display_data"
    }
   ],
   "source": [
    "h_bond.distance_histogram()"
   ]
  },
  {
   "cell_type": "code",
   "execution_count": 58,
   "metadata": {},
   "outputs": [
    {
     "data": {
      "image/png": "[encoded data removed]",
      "text/plain": [
       "<Figure size 1440x1440 with 1 Axes>"
      ]
     },
     "metadata": {
      "needs_background": "light"
     },
     "output_type": "display_data"
    }
   ],
   "source": [
    "h_bond.heatmap(280)"
   ]
  },
  {
   "cell_type": "code",
   "execution_count": 59,
   "metadata": {},
   "outputs": [
    {
     "name": "stdout",
     "output_type": "stream",
     "text": [
      "     donor_index  acceptor_index donor_resnm  donor_resid donor_heavy_atom  \\\n",
      "0             71              26         VAL            6                N   \n",
      "1             71              36         VAL            6                N   \n",
      "2             87              36         ILE            7                N   \n",
      "3            106              55         ILE            8                N   \n",
      "4            125              69         THR            9                N   \n",
      "5            131              69         THR            9              OG1   \n",
      "6            139              85         ALA           10                N   \n",
      "7            139             104         ALA           10                N   \n",
      "8            149             104         VAL           11                N   \n",
      "9            165             123         TYR           12                N   \n",
      "10           186             137         SER           13                N   \n",
      "11           193             137         SER           13               OG   \n",
      "12           197             147         VAL           14                N   \n",
      "13           197             163         VAL           14                N   \n",
      "14           213             163         VAL           15                N   \n",
      "15           229             184         PHE           16                N   \n",
      "16           249             195         VAL           17                N   \n",
      "17           265             211         VAL           18                N   \n",
      "18           281             227         GLY           19                N   \n",
      "19           288             247         LEU           20                N   \n",
      "20           307             263         VAL           21                N   \n",
      "21           323             279         GLY           22                N   \n",
      "22           330             286         ASN           23                N   \n",
      "23           339             773         ASN           23              ND2   \n",
      "24           344             305         SER           24                N   \n",
      "25           351             305         SER           24               OG   \n",
      "26           355             321         LEU           25                N   \n",
      "27           374             328         VAL           26                N   \n",
      "28           390             342         MET           27                N   \n",
      "29           407             353         PHE           28                N   \n",
      "..           ...             ...         ...          ...              ...   \n",
      "647         4359            4361         SER          270               OG   \n",
      "648          532             538         THR           34              OG1   \n",
      "649         3823            3780         THR          234              OG1   \n",
      "650         2326            2614         LYS          146               NZ   \n",
      "651         2768            2690         LYS          173               NZ   \n",
      "652          307             279         VAL           21                N   \n",
      "653         2768            2689         LYS          173               NZ   \n",
      "654          765             730         ALA           48                N   \n",
      "655         2767            3984         LYS          173               NZ   \n",
      "656         2767            3985         LYS          173               NZ   \n",
      "657         1025              69         TYR           65               OH   \n",
      "658         4057            3987         SER          249               OG   \n",
      "659         1963            1892         LYS          122               NZ   \n",
      "660         3289            3225         ARG          203               NE   \n",
      "661          339             814         ASN           23              ND2   \n",
      "662          881             843         THR           56              OG1   \n",
      "663         2325            2525         LYS          146               NZ   \n",
      "664          165             137         TYR           12                N   \n",
      "665         2385            2392         ASP          150                N   \n",
      "666           10              26         SER            1               OG   \n",
      "667         1781            1757         ALA          112                N   \n",
      "668         4499            4477         LEU          279                N   \n",
      "669          639             630         ASN           41                N   \n",
      "670         2413            2421         ASP          152                N   \n",
      "671         2325            2526         LYS          146               NZ   \n",
      "672         2528            2491         GLN          159              NE2   \n",
      "673         2325            2470         LYS          146               NZ   \n",
      "674         2363            1081         ARG          148              NH1   \n",
      "675          340             342         ASN           23              ND2   \n",
      "676         2492            2513         SER          157               OG   \n",
      "\n",
      "    donor_atom acceptor_resnm  acceptor_resid acceptor_atom  frequency  \n",
      "0           HN            PRO               2             O   1.000000  \n",
      "1           HN            ALA               3             O   0.103774  \n",
      "2           HN            ALA               3             O   1.000000  \n",
      "3           HN            ILE               4             O   0.990566  \n",
      "4           HN            PRO               5             O   1.000000  \n",
      "5          HG1            PRO               5             O   0.716981  \n",
      "6           HN            VAL               6             O   1.000000  \n",
      "7           HN            ILE               7             O   0.094340  \n",
      "8           HN            ILE               7             O   1.000000  \n",
      "9           HN            ILE               8             O   1.000000  \n",
      "10          HN            THR               9             O   1.000000  \n",
      "11         HG1            THR               9             O   1.000000  \n",
      "12          HN            ALA              10             O   0.990566  \n",
      "13          HN            VAL              11             O   0.188679  \n",
      "14          HN            VAL              11             O   1.000000  \n",
      "15          HN            TYR              12             O   1.000000  \n",
      "16          HN            SER              13             O   0.981132  \n",
      "17          HN            VAL              14             O   0.990566  \n",
      "18          HN            VAL              15             O   1.000000  \n",
      "19          HN            PHE              16             O   1.000000  \n",
      "20          HN            VAL              17             O   1.000000  \n",
      "21          HN            VAL              18             O   1.000000  \n",
      "22          HN            GLY              19             O   1.000000  \n",
      "23        HD21            ALA              48             O   0.566038  \n",
      "24          HN            LEU              20             O   1.000000  \n",
      "25         HG1            LEU              20             O   1.000000  \n",
      "26          HN            VAL              21             O   1.000000  \n",
      "27          HN            GLY              22             O   1.000000  \n",
      "28          HN            ASN              23             O   1.000000  \n",
      "29          HN            SER              24             O   1.000000  \n",
      "..         ...            ...             ...           ...        ...  \n",
      "647        HG1            SER             270             O   0.018868  \n",
      "648        HG1            THR              34             O   0.028302  \n",
      "649        HG1            VAL             231             O   0.009434  \n",
      "650        HZ3            TYR             165            OH   0.009434  \n",
      "651        HZ3            ASP             169           OD2   0.132075  \n",
      "652         HN            VAL              18             O   0.009434  \n",
      "653        HZ3            ASP             169           OD1   0.235849  \n",
      "654         HN            PHE              45             O   0.018868  \n",
      "655        HZ2            GLU             243           OE1   0.226415  \n",
      "656        HZ2            GLU             243           OE2   0.141509  \n",
      "657         HH            PRO               5             O   0.018868  \n",
      "658        HG1            GLU             243             O   0.009434  \n",
      "659        HZ3            PRO             118             O   0.009434  \n",
      "660         HE            LEU             199             O   0.009434  \n",
      "661       HD21            ASP              51             O   0.009434  \n",
      "662        HG1            LEU              53             O   0.009434  \n",
      "663        HZ2            GLN             159           OE1   0.009434  \n",
      "664         HN            THR               9             O   0.009434  \n",
      "665         HN            ASP             150           OD1   0.009434  \n",
      "666        HG1            PRO               2             O   0.009434  \n",
      "667         HN            VAL             110             O   0.009434  \n",
      "668         HN            ALA             277             O   0.009434  \n",
      "669         HN            THR              40           OG1   0.009434  \n",
      "670         HN            ASP             152           OD2   0.009434  \n",
      "671        HZ2            GLN             159           NE2   0.009434  \n",
      "672       HE22            SER             157            OG   0.009434  \n",
      "673        HZ2            GLU             155           OE1   0.037736  \n",
      "674       HH12            ASN              68             O   0.009434  \n",
      "675       HD22            ASN              23             O   0.018868  \n",
      "676        HG1            LEU             158             O   0.009434  \n",
      "\n",
      "[677 rows x 10 columns]\n"
     ]
    }
   ],
   "source": [
    "h_bond.frequency()"
   ]
  },
  {
   "cell_type": "code",
   "execution_count": 60,
   "metadata": {},
   "outputs": [
    {
     "data": {
      "image/png": "[encoded data removed]",
      "text/plain": [
       "<Figure size 1440x1440 with 1 Axes>"
      ]
     },
     "metadata": {
      "needs_background": "light"
     },
     "output_type": "display_data"
    }
   ],
   "source": [
    "h_bond.inter_frequency(280, 0.9)"
   ]
  },
  {
   "cell_type": "code",
   "execution_count": null,
   "metadata": {},
   "outputs": [],
   "source": []
  },
  {
   "cell_type": "code",
   "execution_count": null,
   "metadata": {},
   "outputs": [],
   "source": []
  }
 ],
 "metadata": {
  "kernelspec": {
   "display_name": "Python 3",
   "language": "python",
   "name": "python3"
  },
  "language_info": {
   "codemirror_mode": {
    "name": "ipython",
    "version": 3
   },
   "file_extension": ".py",
   "mimetype": "text/x-python",
   "name": "python",
   "nbconvert_exporter": "python",
   "pygments_lexer": "ipython3",
   "version": "3.7.1"
  }
 },
 "nbformat": 4,
 "nbformat_minor": 2
}
