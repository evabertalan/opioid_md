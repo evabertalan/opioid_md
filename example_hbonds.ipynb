{
 "cells": [
  {
   "cell_type": "markdown",
   "metadata": {},
   "source": [
    "# Example hbond analysis"
   ]
  },
  {
   "cell_type": "code",
   "execution_count": 5,
   "metadata": {},
   "outputs": [],
   "source": [
    "from mdhbond import HbondAnalysis\n",
    "import numpy as np\n",
    "import os\n",
    "import re\n",
    "# import SimX"
   ]
  },
  {
   "cell_type": "markdown",
   "metadata": {},
   "source": [
    "## Initialization"
   ]
  },
  {
   "cell_type": "code",
   "execution_count": 6,
   "metadata": {},
   "outputs": [],
   "source": [
    "PDB_CODE = '6b73'\n",
    "SEQ = 'B'\n",
    "folder = '../'+PDB_CODE+SEQ+'/'\n",
    "results_folder = folder+'results/'\n",
    "plot_folder = results_folder+'plots/'"
   ]
  },
  {
   "cell_type": "code",
   "execution_count": 17,
   "metadata": {},
   "outputs": [
    {
     "name": "stdout",
     "output_type": "stream",
     "text": [
      "['../6b73B/results/namd/step7.1_production.dcd-pbc.dcd', '../6b73B/results/namd/step7.2_production.dcd-pbc.dcd', '../6b73B/results/namd/step7.3_production.dcd-pbc.dcd', '../6b73B/results/namd/step7.4_production.dcd-pbc.dcd', '../6b73B/results/namd/step7.5_production.dcd-pbc.dcd', '../6b73B/results/namd/step7.6_production.dcd-pbc.dcd', '../6b73B/results/namd/step7.7_production.dcd-pbc.dcd', '../6b73B/results/namd/step7.8_production.dcd-pbc.dcd', '../6b73B/results/namd/step7.9_production.dcd-pbc.dcd', '../6b73B/results/namd/step7.10_production.dcd-pbc.dcd', '../6b73B/results/namd/step7.11_production.dcd-pbc.dcd', '../6b73B/results/namd/step7.12_production.dcd-pbc.dcd', '../6b73B/results/namd/step7.13_production.dcd-pbc.dcd', '../6b73B/results/namd/step7.14_production.dcd-pbc.dcd', '../6b73B/results/namd/step7.15_production.dcd-pbc.dcd', '../6b73B/results/namd/step7.16_production.dcd-pbc.dcd', '../6b73B/results/namd/step7.17_production.dcd-pbc.dcd']\n"
     ]
    }
   ],
   "source": [
    "pbc_file_count = len(sorted([results_folder+'namd/'+i for i in os.listdir(results_folder+'namd/') if re.match(r'(step7.).*\\_production.dcd-pbc.dcd$', i)]))\n",
    "pbc_files = [results_folder+'namd/step7.'+str(i)+'_production.dcd-pbc.dcd' for i in range(1,pbc_file_count+1)]\n",
    "print(pbc_files)"
   ]
  },
  {
   "cell_type": "markdown",
   "metadata": {},
   "source": [
    "#### Basic initialization for psf stucture and dcd trajectory"
   ]
  },
  {
   "cell_type": "code",
   "execution_count": 18,
   "metadata": {},
   "outputs": [],
   "source": [
    "psf_file = results_folder+'step5_assembly.xplor_ext.psf'"
   ]
  },
  {
   "cell_type": "code",
   "execution_count": 19,
   "metadata": {},
   "outputs": [],
   "source": [
    "# hba = HbondAnalysis('protein', SimX.psf_file, SimX.dcd_files)\n",
    "hba = HbondAnalysis('protein', psf_file,  pbc_files)"
   ]
  },
  {
   "cell_type": "markdown",
   "metadata": {},
   "source": [
    "#### Initialization for analyzing a pdb of a crystal structure without explicit hydrogen"
   ]
  },
  {
   "cell_type": "code",
   "execution_count": null,
   "metadata": {},
   "outputs": [],
   "source": [
    "# hba = HbondAnalysis('protein', './protein.pdb', residuewise=False, check_angle=False, additional_donors=['N'], additional_acceptors=['O'], add_donors_without_hydrogen=True) "
   ]
  },
  {
   "cell_type": "markdown",
   "metadata": {},
   "source": [
    "## Setting up the initial hbond network"
   ]
  },
  {
   "cell_type": "markdown",
   "metadata": {},
   "source": [
    "#### Set hbonds between donor and acceptor amino acid residue groups"
   ]
  },
  {
   "cell_type": "code",
   "execution_count": 20,
   "metadata": {},
   "outputs": [],
   "source": [
    "hba.set_hbonds_in_selection()"
   ]
  },
  {
   "cell_type": "code",
   "execution_count": 21,
   "metadata": {},
   "outputs": [
    {
     "data": {
      "text/plain": [
       "{'PROA-ARG-32:PROA-TYR-33': array([ True,  True,  True, ..., False, False, False]),\n",
       " 'PROA-THR-38:PROA-THR-40': array([ True, False, False, ..., False, False, False]),\n",
       " 'PROA-THR-34:PROA-ASN-41': array([ True,  True,  True, ..., False, False, False]),\n",
       " 'PROA-ASP-51:PROA-SER-91': array([ True,  True,  True, ..., False, False, False]),\n",
       " 'PROA-ASP-51:PROA-SER-269': array([ True,  True,  True, ...,  True,  True,  True]),\n",
       " 'PROA-ASP-51:PROA-ASN-272': array([ True,  True,  True, ..., False, False,  True]),\n",
       " 'PROA-THR-57:PROA-TYR-266': array([ True,  True,  True, ..., False, False, False]),\n",
       " 'PROA-TYR-12:PROA-GLN-61': array([ True,  True,  True, ..., False, False, False]),\n",
       " 'PROA-ASP-74:PROA-THR-145': array([ True,  True,  True, ...,  True,  True,  True]),\n",
       " 'PROA-ASP-74:PROA-ARG-148': array([ True,  True,  True, ..., False, False, False]),\n",
       " 'PROA-TYR-86:PROA-SER-133': array([ True, False,  True, ...,  True,  True,  True]),\n",
       " 'PROA-ASN-87:PROA-THR-90': array([ True,  True,  True, ..., False, False, False]),\n",
       " 'PROA-TYR-43:PROA-ASP-101': array([ True,  True,  True, ..., False, False, False]),\n",
       " 'PROA-ASP-101:PROA-ARG-116': array([ True,  True,  True, ...,  True,  True,  True]),\n",
       " 'PROA-ASN-46:PROA-ASN-125': array([ True,  True, False, ..., False,  True, False]),\n",
       " 'PROA-THR-90:PROA-SER-132': array([ True,  True,  True, ...,  True,  True,  True]),\n",
       " 'PROA-LYS-146:PROA-GLU-155': array([ True,  True,  True, ...,  True,  True,  True]),\n",
       " 'PROA-ASP-169:PROA-LYS-173': array([ True,  True,  True, ...,  True,  True,  True]),\n",
       " 'PROA-LYS-211:PROA-ASP-212': array([ True,  True,  True, ..., False, False, False]),\n",
       " 'PROA-ASN-214:PROA-ARG-217': array([ True, False, False, ..., False, False, False]),\n",
       " 'PROA-LYS-173:PROA-GLU-243': array([ True,  True,  True, ..., False, False, False]),\n",
       " 'PROA-TRP-233:PROA-ASN-268': array([ True,  True,  True, ..., False, False, False]),\n",
       " 'PROA-TYR-192:PROA-TYR-276': array([ True,  True,  True, ..., False, False, False]),\n",
       " 'PROA-ARG-102:PROA-ASP-280': array([ True,  True,  True, ..., False, False, False]),\n",
       " 'PROA-THR-38:PROA-ASN-41': array([False,  True,  True, ..., False, False, False]),\n",
       " 'PROA-SER-91:PROA-ASN-268': array([False,  True, False, ..., False, False, False]),\n",
       " 'PROA-GLN-61:PROA-TYR-266': array([False,  True,  True, ..., False, False, False]),\n",
       " 'PROA-LYS-111:PROA-ASP-114': array([False, False,  True, ..., False, False, False]),\n",
       " 'PROA-TYR-65:PROA-SER-256': array([False, False,  True, ...,  True,  True,  True]),\n",
       " 'PROA-ASN-46:PROA-THR-94': array([False, False, False, ...,  True, False,  True]),\n",
       " 'PROA-TYR-86:PROA-TRP-129': array([False, False, False, ..., False, False, False]),\n",
       " 'PROA-ASN-268:PROA-ASN-272': array([False, False, False, ..., False,  True, False]),\n",
       " 'PROA-THR-40:PROA-ASN-41': array([False, False, False, ..., False, False, False]),\n",
       " 'PROA-LYS-200:PROA-THR-219': array([False, False, False, ..., False, False, False]),\n",
       " 'PROA-ARG-102:PROA-TYR-192': array([False, False, False, ..., False, False, False]),\n",
       " 'PROA-THR-248:PROA-HSD-250': array([False, False, False, ..., False, False, False]),\n",
       " 'PROA-LYS-146:PROA-SER-157': array([False, False, False, ..., False, False, False]),\n",
       " 'PROA-GLN-61:PROA-ASP-84': array([False, False, False, ..., False, False, False]),\n",
       " 'PROA-TYR-165:PROA-TRP-167': array([False, False, False, ..., False, False, False]),\n",
       " 'PROA-ASP-84:PROA-TYR-266': array([False, False, False, ..., False, False, False]),\n",
       " 'PROA-LYS-146:PROA-ASP-152': array([False, False, False, ..., False, False, False]),\n",
       " 'PROA-THR-57:PROA-GLN-61': array([False, False, False, ..., False, False, False]),\n",
       " 'PROA-GLU-210:PROA-ASN-214': array([False, False, False, ..., False, False, False]),\n",
       " 'PROA-MET-67:PROA-SER-69': array([False, False, False, ..., False, False, False]),\n",
       " 'PROA-ASN-268:PROA-SER-269': array([False, False, False, ..., False, False, False]),\n",
       " 'PROA-THR-40:PROA-ARG-116': array([False, False, False, ..., False, False, False]),\n",
       " 'PROA-ASN-23:PROA-ASP-51': array([False, False, False, ..., False, False, False]),\n",
       " 'PROA-GLN-61:PROA-TYR-259': array([False, False, False, ...,  True,  True,  True]),\n",
       " 'PROA-SER-91:PROA-ASN-272': array([False, False, False, ..., False, False, False]),\n",
       " 'PROA-SER-157:PROA-GLN-159': array([False, False, False, ..., False,  True,  True]),\n",
       " 'PROA-GLU-210:PROA-ARG-213': array([False, False, False, ...,  True,  True,  True]),\n",
       " 'PROA-GLN-61:PROA-TYR-258': array([False, False, False, ..., False, False, False]),\n",
       " 'PROA-ARG-148:PROA-GLU-149': array([False, False, False, ..., False, False, False]),\n",
       " 'PROA-TYR-86:PROA-ASN-87': array([False, False, False, ..., False, False, False]),\n",
       " 'PROA-GLU-155:PROA-SER-157': array([False, False, False, ..., False, False, False]),\n",
       " 'PROA-GLU-243:PROA-HSD-250': array([False, False, False, ..., False, False, False]),\n",
       " 'PROA-GLU-243:PROA-THR-248': array([False, False, False, ...,  True,  True,  True]),\n",
       " 'PROA-ASP-74:PROA-LYS-78': array([False, False, False, ..., False, False, False]),\n",
       " 'PROA-SER-91:PROA-SER-269': array([False, False, False, ..., False, False, False]),\n",
       " 'PROA-ARG-209:PROA-GLU-210': array([False, False, False, ..., False, False, False]),\n",
       " 'PROA-ASP-51:PROA-ASN-268': array([False, False, False, ..., False, False, False]),\n",
       " 'PROA-LYS-146:PROA-ASP-162': array([False, False, False, ..., False, False, False]),\n",
       " 'PROA-TYR-43:PROA-ARG-116': array([False, False, False, ..., False, False, False]),\n",
       " 'PROA-TYR-43:PROA-ASN-125': array([False, False, False, ..., False, False, False]),\n",
       " 'PROA-ASN-23:PROA-THR-55': array([False, False, False, ..., False, False, False]),\n",
       " 'PROA-THR-38:PROA-ARG-116': array([False, False, False, ..., False, False, False]),\n",
       " 'PROA-THR-9:PROA-SER-62': array([False, False, False, ..., False, False, False]),\n",
       " 'PROA-LYS-146:PROA-GLN-159': array([False, False, False, ..., False, False, False]),\n",
       " 'PROA-TRP-129:PROA-SER-133': array([False, False, False, ..., False, False, False]),\n",
       " 'PROA-LYS-173:PROA-TYR-258': array([False, False, False, ..., False, False, False]),\n",
       " 'PROA-ASP-212:PROA-ARG-216': array([False, False, False, ..., False, False, False]),\n",
       " 'PROA-THR-40:PROA-ARG-102': array([False, False, False, ..., False, False, False]),\n",
       " 'PROA-SER-166:PROA-ASP-169': array([False, False, False, ..., False, False, False]),\n",
       " 'PROA-SER-99:PROA-TYR-192': array([False, False, False, ..., False, False, False]),\n",
       " 'PROA-ASN-272:PROA-TYR-276': array([False, False, False, ..., False, False, False]),\n",
       " 'PROA-SER-206:PROA-GLU-210': array([False, False, False, ..., False, False, False]),\n",
       " 'PROA-TYR-103:PROA-CYS-107': array([False, False, False, ..., False, False, False]),\n",
       " 'PROA-SER-206:PROA-ASN-214': array([False, False, False, ..., False, False, False]),\n",
       " 'PROA-TYR-85:PROA-LYS-173': array([False, False, False, ..., False, False, False]),\n",
       " 'PROA-LYS-146:PROA-ASP-150': array([False, False, False, ..., False, False, False]),\n",
       " 'PROA-SER-257:PROA-CYS-261': array([False, False, False, ..., False, False, False]),\n",
       " 'PROA-CYS-107:PROA-ARG-198': array([False, False, False, ..., False, False, False]),\n",
       " 'PROA-SER-13:PROA-SER-62': array([False, False, False, ..., False, False, False]),\n",
       " 'PROA-ARG-209:PROA-ASP-212': array([False, False, False, ...,  True,  True,  True]),\n",
       " 'PROA-SER-249:PROA-SER-251': array([False, False, False, ..., False, False, False]),\n",
       " 'PROA-THR-145:PROA-ARG-148': array([False, False, False, ..., False, False, False]),\n",
       " 'PROA-SER-208:PROA-ASP-212': array([False, False, False, ..., False, False, False]),\n",
       " 'PROA-ASP-163:PROA-TRP-167': array([False, False, False, ..., False, False, False]),\n",
       " 'PROA-MET-88:PROA-TYR-266': array([False, False, False, ..., False, False, False]),\n",
       " 'PROA-SER-206:PROA-LYS-211': array([False, False, False, ..., False, False, False]),\n",
       " 'PROA-ARG-198:PROA-SER-201': array([False, False, False, ..., False, False, False]),\n",
       " 'PROA-ASN-46:PROA-TRP-129': array([False, False, False, ...,  True,  True,  True]),\n",
       " 'PROA-THR-40:PROA-ASP-101': array([False, False, False, ..., False, False, False]),\n",
       " 'PROA-GLU-243:PROA-SER-247': array([False, False, False, ..., False, False, False]),\n",
       " 'PROA-ARG-203:PROA-SER-208': array([False, False, False, ..., False, False, False]),\n",
       " 'PROA-MET-98:PROA-ARG-102': array([False, False, False, ..., False, False, False]),\n",
       " 'PROA-CYS-107:PROA-HSD-108': array([False, False, False, ..., False, False,  True]),\n",
       " 'PROA-HSD-108:PROA-ARG-198': array([False, False, False, ..., False, False, False]),\n",
       " 'PROA-SER-208:PROA-ARG-209': array([False, False, False, ..., False, False, False]),\n",
       " 'PROA-ASP-162:PROA-SER-166': array([False, False, False, ..., False, False, False]),\n",
       " 'PROA-ARG-148:PROA-GLN-159': array([False, False, False, ..., False, False, False]),\n",
       " 'PROA-TYR-103:PROA-HSD-108': array([False, False, False, ..., False, False, False]),\n",
       " 'PROA-THR-94:PROA-ASN-125': array([False, False, False, ..., False, False, False]),\n",
       " 'PROA-ARG-148:PROA-ASP-162': array([False, False, False, ...,  True,  True,  True]),\n",
       " 'PROA-ASN-125:PROA-TRP-129': array([False, False, False, ..., False, False, False]),\n",
       " 'PROA-GLU-210:PROA-ARG-217': array([False, False, False, ..., False, False, False]),\n",
       " 'PROA-SER-208:PROA-ARG-213': array([False, False, False, ..., False, False, False]),\n",
       " 'PROA-SER-208:PROA-GLU-210': array([False, False, False, ..., False, False, False]),\n",
       " 'PROA-ASN-68:PROA-THR-252': array([False, False, False, ..., False, False, False]),\n",
       " 'PROA-GLU-155:PROA-GLN-159': array([False, False, False, ..., False, False, False]),\n",
       " 'PROA-THR-252:PROA-SER-256': array([False, False, False, ..., False, False, False]),\n",
       " 'PROA-SER-99:PROA-CYS-191': array([False, False, False, ..., False, False, False]),\n",
       " 'PROA-CYS-232:PROA-ASN-268': array([False, False, False, ..., False, False, False]),\n",
       " 'PROA-ASN-68:PROA-SER-69': array([False, False, False, ..., False, False, False]),\n",
       " 'PROA-GLU-155:PROA-TYR-259': array([False, False, False, ..., False, False, False]),\n",
       " 'PROA-SER-208:PROA-LYS-211': array([False, False, False, ..., False, False, False]),\n",
       " 'PROA-ASP-74:PROA-LYS-146': array([False, False, False, ..., False, False, False]),\n",
       " 'PROA-ARG-213:PROA-ASN-214': array([False, False, False, ..., False, False, False]),\n",
       " 'PROA-SER-247:PROA-HSD-250': array([False, False, False, ..., False, False, False]),\n",
       " 'PROA-HSD-108:PROA-LYS-111': array([False, False, False, ..., False, False, False]),\n",
       " 'PROA-ARG-148:PROA-ASP-152': array([False, False, False, ..., False, False, False]),\n",
       " 'PROA-THR-57:PROA-ASP-84': array([False, False, False, ..., False, False, False]),\n",
       " 'PROA-ARG-148:PROA-GLU-155': array([False, False, False, ..., False, False, False]),\n",
       " 'PROA-ASN-68:PROA-HSD-250': array([False, False, False, ..., False, False, False]),\n",
       " 'PROA-SER-249:PROA-HSD-250': array([False, False, False, ..., False, False, False]),\n",
       " 'PROA-LYS-200:PROA-ASP-212': array([False, False, False, ..., False, False, False]),\n",
       " 'PROA-MET-172:PROA-LYS-173': array([False, False, False, ..., False, False, False]),\n",
       " 'PROA-LYS-146:PROA-HSD-250': array([False, False, False, ..., False, False, False]),\n",
       " 'PROA-THR-34:PROA-THR-38': array([False, False, False, ..., False, False, False]),\n",
       " 'PROA-THR-117:PROA-LYS-120': array([False, False, False, ..., False, False, False]),\n",
       " 'PROA-SER-69:PROA-ASP-152': array([False, False, False, ..., False, False, False]),\n",
       " 'PROA-TYR-12:PROA-TYR-266': array([False, False, False, ..., False, False, False]),\n",
       " 'PROA-THR-248:PROA-SER-251': array([False, False, False, ..., False, False, False]),\n",
       " 'PROA-GLU-155:PROA-HSD-250': array([False, False, False, ..., False, False, False]),\n",
       " 'PROA-ASP-101:PROA-ARG-102': array([False, False, False, ..., False, False, False])}"
      ]
     },
     "execution_count": 21,
     "metadata": {},
     "output_type": "execute_result"
    }
   ],
   "source": [
    "hba.filtered_results"
   ]
  },
  {
   "cell_type": "markdown",
   "metadata": {},
   "source": [
    "#### Set hbonds between residues and all water within 5.0 A."
   ]
  },
  {
   "cell_type": "code",
   "execution_count": 22,
   "metadata": {},
   "outputs": [],
   "source": [
    "# hba.set_hbonds_in_selection_and_water_around(5.0)"
   ]
  },
  {
   "cell_type": "markdown",
   "metadata": {},
   "source": [
    "#### Set hbonds between residues and all water in a convex hull around the selection"
   ]
  },
  {
   "cell_type": "code",
   "execution_count": null,
   "metadata": {},
   "outputs": [],
   "source": [
    "# hba.set_hbonds_in_selection_and_water_in_convex_hull()"
   ]
  },
  {
   "cell_type": "markdown",
   "metadata": {},
   "source": [
    "## Filtering and visualizing the filtered graph"
   ]
  },
  {
   "cell_type": "code",
   "execution_count": 24,
   "metadata": {},
   "outputs": [],
   "source": [
    "hba.filter_occupancy(0.5, use_filtered=False)\n",
    "hba.draw_graph(filename=plot_folder+'hbonds_05.png')"
   ]
  },
  {
   "cell_type": "code",
   "execution_count": 25,
   "metadata": {},
   "outputs": [],
   "source": [
    "hba2 = hba.duplicate()\n",
    "hba2.filter_occupancy(0.9)\n",
    "hba2.draw_graph(filename=plot_folder+'hbonds_09.png')\n",
    "hba.draw_graph(compare_to=hba2, filename=plot_folder+'hbonds_COMPARE_05_09.png')"
   ]
  },
  {
   "cell_type": "code",
   "execution_count": null,
   "metadata": {},
   "outputs": [],
   "source": [
    "hba.filter_connected_component('1CHR-GLU-88')\n",
    "hba.draw_graph()"
   ]
  },
  {
   "cell_type": "markdown",
   "metadata": {},
   "source": [
    "## Computations on the filtered results"
   ]
  },
  {
   "cell_type": "code",
   "execution_count": null,
   "metadata": {},
   "outputs": [],
   "source": [
    "jo = hba.compute_joint_occupancy()\n",
    "print(jo, hba.joint_occupancy_series)"
   ]
  },
  {
   "cell_type": "code",
   "execution_count": null,
   "metadata": {},
   "outputs": [],
   "source": [
    "class_dict, class_3_dict = hba.compute_i4_bonds()"
   ]
  },
  {
   "cell_type": "markdown",
   "metadata": {},
   "source": [
    "## Plotting"
   ]
  },
  {
   "cell_type": "code",
   "execution_count": null,
   "metadata": {},
   "outputs": [],
   "source": [
    "hba.draw_i4_motif_distribution()"
   ]
  },
  {
   "cell_type": "code",
   "execution_count": null,
   "metadata": {},
   "outputs": [],
   "source": [
    "hba.draw_connections_per_residue(residues_to_plot=range(50))"
   ]
  },
  {
   "cell_type": "code",
   "execution_count": null,
   "metadata": {},
   "outputs": [],
   "source": [
    "hba.draw_multi_segname_occupancy_histogram(0.5,0.1)"
   ]
  },
  {
   "cell_type": "code",
   "execution_count": null,
   "metadata": {},
   "outputs": [],
   "source": [
    "hba.draw_multi_segment_connection_timeseries()"
   ]
  },
  {
   "cell_type": "code",
   "execution_count": null,
   "metadata": {},
   "outputs": [],
   "source": [
    "hba.draw_joint_timeseries()"
   ]
  },
  {
   "cell_type": "code",
   "execution_count": null,
   "metadata": {},
   "outputs": [],
   "source": [
    "hba.draw_residue_range_heatmap([[0,50],[50,60],[60,90]], ['A', 'B', 'C'])"
   ]
  },
  {
   "cell_type": "code",
   "execution_count": null,
   "metadata": {},
   "outputs": [],
   "source": [
    "hba.draw_residue_residue_heatmap()"
   ]
  },
  {
   "cell_type": "code",
   "execution_count": null,
   "metadata": {},
   "outputs": [],
   "source": []
  }
 ],
 "metadata": {
  "kernelspec": {
   "display_name": "Python 3",
   "language": "python",
   "name": "python3"
  },
  "language_info": {
   "codemirror_mode": {
    "name": "ipython",
    "version": 3
   },
   "file_extension": ".py",
   "mimetype": "text/x-python",
   "name": "python",
   "nbconvert_exporter": "python",
   "pygments_lexer": "ipython3",
   "version": "3.7.1"
  }
 },
 "nbformat": 4,
 "nbformat_minor": 2
}
