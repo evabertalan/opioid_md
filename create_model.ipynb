{
 "cells": [
  {
   "cell_type": "code",
   "execution_count": 21,
   "metadata": {
    "collapsed": true
   },
   "outputs": [],
   "source": [
    "import os, errno\n",
    "import re\n",
    "import shutil\n",
    "import tarfile\n",
    "import nglview as nv\n",
    "from Bio import pairwise2\n",
    "from Bio import SeqIO\n",
    "import MDAnalysis as mda\n",
    "from MDAnalysis.analysis import align\n",
    "from modeller_script.evaluate_modeller import evaluate_modeller"
   ]
  },
  {
   "cell_type": "code",
   "execution_count": null,
   "metadata": {
    "collapsed": true
   },
   "outputs": [],
   "source": [
    "def create_directory(directory):\n",
    "    try:\n",
    "        os.makedirs(directory)\n",
    "    except OSError as e:\n",
    "        if e.errno != errno.EEXIST:\n",
    "            raise\n",
    "    \n",
    "    return directory"
   ]
  },
  {
   "cell_type": "code",
   "execution_count": null,
   "metadata": {
    "collapsed": true
   },
   "outputs": [],
   "source": [
    "def move_files(source, dest, file_name):\n",
    "    files = os.listdir(source)\n",
    "    for f in files:\n",
    "        if re.match(file_name, f):\n",
    "            shutil.move(source+f, dest)"
   ]
  },
  {
   "cell_type": "code",
   "execution_count": 136,
   "metadata": {
    "collapsed": true
   },
   "outputs": [],
   "source": [
    "DOWNLOADS = '/Users/evabertalan/Downloads'"
   ]
  },
  {
   "cell_type": "markdown",
   "metadata": {},
   "source": [
    "### 1. prepare directory"
   ]
  },
  {
   "cell_type": "code",
   "execution_count": 42,
   "metadata": {
    "collapsed": true
   },
   "outputs": [],
   "source": [
    "PDB_CODE = '6b73'\n",
    "CHAIN = 'B'"
   ]
  },
  {
   "cell_type": "code",
   "execution_count": 43,
   "metadata": {},
   "outputs": [],
   "source": [
    "folder_name = PDB_CODE+CHAIN\n",
    "path = '../'+folder_name"
   ]
  },
  {
   "cell_type": "code",
   "execution_count": null,
   "metadata": {
    "collapsed": true
   },
   "outputs": [],
   "source": [
    "directory = create_directory(path)"
   ]
  },
  {
   "cell_type": "markdown",
   "metadata": {},
   "source": [
    "### 2. download pdb file and fasta sequence:"
   ]
  },
  {
   "cell_type": "code",
   "execution_count": null,
   "metadata": {
    "collapsed": true
   },
   "outputs": [],
   "source": [
    "file_name = PDB_CODE+'.pdb'\n",
    "! (cd $directory && curl -O https://files.rcsb.org/download/$file_name)"
   ]
  },
  {
   "cell_type": "code",
   "execution_count": null,
   "metadata": {
    "collapsed": true
   },
   "outputs": [],
   "source": [
    "fasta_path = directory+'/'+PDB_CODE+'.fasta'\n",
    "fasta_url = '\"'+'https://www.rcsb.org/pdb/download/downloadFile.do?fileFormat=fastachain&compression=NO&structureId='+PDB_CODE+'&chainId='+CHAIN+'\"'        \n",
    "! curl -o $fasta_path $fasta_url"
   ]
  },
  {
   "cell_type": "markdown",
   "metadata": {},
   "source": [
    "### 3. create sequence:"
   ]
  },
  {
   "cell_type": "code",
   "execution_count": null,
   "metadata": {
    "collapsed": true
   },
   "outputs": [],
   "source": [
    "! (cd $directory && mod9.21 ../code/modeller_script/get_seq.py $PDB_CODE $CHAIN)"
   ]
  },
  {
   "cell_type": "markdown",
   "metadata": {},
   "source": [
    "### 4. create alignement:"
   ]
  },
  {
   "cell_type": "code",
   "execution_count": 83,
   "metadata": {
    "collapsed": true
   },
   "outputs": [],
   "source": [
    "def create_alignment(pdb_code, chain, directory):\n",
    "    sequence_path = directory+'/'+pdb_code+'.seq'\n",
    "    ali_path = directory+'/alignment.ali'\n",
    "\n",
    "    sequence = ''\n",
    "    fasta = SeqIO.read(directory+'/'+PDB_CODE+'.fasta', 'fasta').seq\n",
    "\n",
    "    with open(sequence_path) as sequence_file:\n",
    "        alignment_file = open(ali_path, 'w+')\n",
    "        for i, line in enumerate(sequence_file):\n",
    "            if i < 3:\n",
    "                alignment_file.write(line)\n",
    "            else:\n",
    "                sequence += line\n",
    "                \n",
    "        sequence = sequence[:-2]        \n",
    "        alignments = pairwise2.align.globalxx(fasta, sequence)\n",
    "\n",
    "        alignment_file.write(alignments[0][1])\n",
    "        alignment_file.write('*\\n')\n",
    "        alignment_file.write('>P1;'+pdb_code+'_fill\\n')\n",
    "        alignment_file.write('sequence:::::::::\\n')\n",
    "        alignment_file.write(str(fasta)+'*')\n",
    "        alignment_file.close()"
   ]
  },
  {
   "cell_type": "code",
   "execution_count": 84,
   "metadata": {},
   "outputs": [],
   "source": [
    "create_alignment(PDB_CODE, CHAIN, directory)"
   ]
  },
  {
   "cell_type": "markdown",
   "metadata": {},
   "source": [
    "### 5. compose template and target sequence:\n",
    "\ttemplate: >P1;6b73\n",
    "\t\t\t\tstructureX:6b73:\n",
    "\t\t\t\t- - - for missing residues\n",
    "\ttarget: >P1;6b73_fill\n",
    "\t\t\t\tsequence:::::::::\n",
    "\t\t\t\tinsert residues where it missing;\n",
    "\t\t\t\t- - - for residues what are not needed"
   ]
  },
  {
   "cell_type": "code",
   "execution_count": 85,
   "metadata": {
    "collapsed": true
   },
   "outputs": [],
   "source": [
    "! open -e $ali_path\n",
    "! /Applications/Chimera.app/Contents/MacOS/chimera $directory/$file_name"
   ]
  },
  {
   "cell_type": "markdown",
   "metadata": {},
   "source": [
    "### 6. run modeller:\n",
    " * knowns = sys.argv[1]\n",
    " * sequence = sys.argv[2]\n",
    " * num_models = sys.argv[3]\n",
    " * num_loops = sys.argv[4]"
   ]
  },
  {
   "cell_type": "code",
   "execution_count": null,
   "metadata": {
    "collapsed": true
   },
   "outputs": [],
   "source": [
    "pdb_fill = PDB_CODE+'_fill'\n",
    "! (cd $directory && mod9.21 ../code/modeller_script/loopmodel.py $PDB_CODE $pdb_fill 20 4)"
   ]
  },
  {
   "cell_type": "markdown",
   "metadata": {},
   "source": [
    "### 7. evaluate modeller result:"
   ]
  },
  {
   "cell_type": "code",
   "execution_count": 5,
   "metadata": {},
   "outputs": [
    {
     "name": "stdout",
     "output_type": "stream",
     "text": [
      "            DOPE  ga341       molpdf                     name  norm_DOPE\n",
      "5  -38197.539062    1.0   919.880127  6b73_fill.B99990006.pdb   -0.55493\n",
      "7  -38087.347656    1.0   918.481445  6b73_fill.B99990008.pdb   -0.52706\n",
      "3  -38080.039062    1.0   906.115295  6b73_fill.B99990004.pdb   -0.52521\n",
      "14 -38067.464844    1.0   955.168335  6b73_fill.B99990015.pdb   -0.52203\n",
      "13 -37928.148438    1.0   962.934448  6b73_fill.B99990014.pdb   -0.48679\n",
      "9  -37927.113281    1.0   984.575317  6b73_fill.B99990010.pdb   -0.48653\n",
      "18 -37926.093750    1.0   978.404114  6b73_fill.B99990019.pdb   -0.48627\n",
      "16 -37916.238281    1.0   973.556519  6b73_fill.B99990017.pdb   -0.48378\n",
      "17 -37885.402344    1.0   884.425964  6b73_fill.B99990018.pdb   -0.47598\n",
      "2  -37876.269531    1.0   979.899719  6b73_fill.B99990003.pdb   -0.47367\n",
      "12 -37875.011719    1.0  1070.296997  6b73_fill.B99990013.pdb   -0.47335\n",
      "4  -37871.675781    1.0  1028.565430  6b73_fill.B99990005.pdb   -0.47251\n",
      "11 -37859.902344    1.0  1005.030090  6b73_fill.B99990012.pdb   -0.46953\n",
      "10 -37812.953125    1.0   931.336243  6b73_fill.B99990011.pdb   -0.45766\n",
      "8  -37755.925781    1.0   966.786743  6b73_fill.B99990009.pdb   -0.44323\n",
      "15 -37748.992188    1.0   998.838013  6b73_fill.B99990016.pdb   -0.44148\n",
      "6  -37734.050781    1.0   914.507263  6b73_fill.B99990007.pdb   -0.43770\n",
      "19 -37569.394531    1.0  1050.961060  6b73_fill.B99990020.pdb   -0.39605\n",
      "0  -37497.277344    1.0   955.085266  6b73_fill.B99990001.pdb   -0.37781\n",
      "1  -37455.515625    1.0   990.764465  6b73_fill.B99990002.pdb   -0.36725\n",
      "-----------------------------------------------------------------------\n",
      "The best MODEL:  6b73_fill.B99990006.pdb   -38197.54\n",
      "         molpdf                      name\n",
      "65 -1022.496216  6b73_fill.BL00020017.pdb\n",
      "1  -1004.096008  6b73_fill.BL00020001.pdb\n",
      "46  -995.308838  6b73_fill.BL00030012.pdb\n",
      "78  -988.261902  6b73_fill.BL00030020.pdb\n",
      "19  -978.976807  6b73_fill.BL00040005.pdb\n",
      "18  -974.213928  6b73_fill.BL00030005.pdb\n",
      "8   -965.938843  6b73_fill.BL00010003.pdb\n",
      "61  -964.585083  6b73_fill.BL00020016.pdb\n",
      "3   -956.361328  6b73_fill.BL00040001.pdb\n",
      "36  -954.618347  6b73_fill.BL00010010.pdb\n",
      "79  -945.084167  6b73_fill.BL00040020.pdb\n",
      "76  -941.175659  6b73_fill.BL00010020.pdb\n",
      "68  -935.974121  6b73_fill.BL00010018.pdb\n",
      "15  -935.755737  6b73_fill.BL00040004.pdb\n",
      "23  -935.556519  6b73_fill.BL00040006.pdb\n",
      "39  -931.462341  6b73_fill.BL00040010.pdb\n",
      "67  -907.399597  6b73_fill.BL00040017.pdb\n",
      "5   -894.315063  6b73_fill.BL00020002.pdb\n",
      "24  -874.085083  6b73_fill.BL00010007.pdb\n",
      "11  -871.932251  6b73_fill.BL00040003.pdb\n",
      "29  -856.954834  6b73_fill.BL00020008.pdb\n",
      "2   -840.512939  6b73_fill.BL00030001.pdb\n",
      "4   -834.596252  6b73_fill.BL00010002.pdb\n",
      "54  -763.180786  6b73_fill.BL00030014.pdb\n",
      "34  -709.753540  6b73_fill.BL00030009.pdb\n",
      "43  -673.885498  6b73_fill.BL00040011.pdb\n",
      "51  -653.789917  6b73_fill.BL00040013.pdb\n",
      "12  -537.874146  6b73_fill.BL00010004.pdb\n",
      "75  -521.494690  6b73_fill.BL00040019.pdb\n",
      "22  -467.492767  6b73_fill.BL00030006.pdb\n",
      "..          ...                       ...\n",
      "26  3128.618164  6b73_fill.BL00030007.pdb\n",
      "9   3182.829590  6b73_fill.BL00020003.pdb\n",
      "0   3425.445312  6b73_fill.BL00010001.pdb\n",
      "25  3519.066895  6b73_fill.BL00020007.pdb\n",
      "10  3690.479004  6b73_fill.BL00030003.pdb\n",
      "38  3772.757080  6b73_fill.BL00030010.pdb\n",
      "62  3842.184570  6b73_fill.BL00030016.pdb\n",
      "21  3848.142578  6b73_fill.BL00020006.pdb\n",
      "30  4068.769043  6b73_fill.BL00030008.pdb\n",
      "72  4101.180664  6b73_fill.BL00010019.pdb\n",
      "58  4664.235352  6b73_fill.BL00030015.pdb\n",
      "55  4903.891602  6b73_fill.BL00040014.pdb\n",
      "6   4915.489258  6b73_fill.BL00030002.pdb\n",
      "60  4931.874023  6b73_fill.BL00010016.pdb\n",
      "52  4937.191406  6b73_fill.BL00010014.pdb\n",
      "59  5040.947266  6b73_fill.BL00040015.pdb\n",
      "31  5065.979004  6b73_fill.BL00040008.pdb\n",
      "70  5159.477539  6b73_fill.BL00030018.pdb\n",
      "20  5178.479980  6b73_fill.BL00010006.pdb\n",
      "33  5525.141113  6b73_fill.BL00020009.pdb\n",
      "44  5536.302734  6b73_fill.BL00010012.pdb\n",
      "64  5848.032227  6b73_fill.BL00010017.pdb\n",
      "28  5978.773438  6b73_fill.BL00010008.pdb\n",
      "14  6313.997559  6b73_fill.BL00030004.pdb\n",
      "69  6566.996094  6b73_fill.BL00020018.pdb\n",
      "48  6656.640625  6b73_fill.BL00010013.pdb\n",
      "16  6865.442383  6b73_fill.BL00010005.pdb\n",
      "7   8777.334961  6b73_fill.BL00040002.pdb\n",
      "42  8870.811523  6b73_fill.BL00030011.pdb\n",
      "50  9302.459961  6b73_fill.BL00030013.pdb\n",
      "\n",
      "[80 rows x 2 columns]\n",
      "-----------------------------------------------------------------------\n",
      "The best LOOP model:  6b73_fill.BL00020017.pdb   -1022.4962\n"
     ]
    }
   ],
   "source": [
    "file_name = pdb_fill+'.'\n",
    "best_model, best_loop = evaluate_modeller(file_name, loop=True)"
   ]
  },
  {
   "cell_type": "code",
   "execution_count": 6,
   "metadata": {
    "collapsed": true
   },
   "outputs": [],
   "source": [
    "! /Applications/Chimera.app/Contents/MacOS/chimera $directory/$best_model $directory/$best_loop"
   ]
  },
  {
   "cell_type": "code",
   "execution_count": 19,
   "metadata": {
    "collapsed": true
   },
   "outputs": [],
   "source": [
    "def copy_best(source, dest, file_name, best):\n",
    "    files = os.listdir(source)\n",
    "    for f in files:\n",
    "        if re.match(best, f):\n",
    "            shutil.copy(source+'/'+f, dest+file_name+'pdb')"
   ]
  },
  {
   "cell_type": "code",
   "execution_count": 20,
   "metadata": {
    "collapsed": true
   },
   "outputs": [],
   "source": [
    "model_folder = create_directory(directory+'/models')\n",
    "move_files(directory+'/', model_folder, file_name, best_model)\n",
    "copy_best(model_folder, directory+'/', file_name, best_model)\n",
    "copy_best(model_folder, directory+'/', file_name[:-1]+'_loop.', best_loop)"
   ]
  },
  {
   "cell_type": "code",
   "execution_count": 151,
   "metadata": {
    "collapsed": true
   },
   "outputs": [],
   "source": [
    "! cp ./modeller_script/loopmodel.log $model_folder"
   ]
  },
  {
   "cell_type": "markdown",
   "metadata": {},
   "source": [
    "### 8. upload to OPM:\n",
    "PDB_CODE_fill.pdb\n",
    "https://opm.phar.umich.edu/ppm_server"
   ]
  },
  {
   "cell_type": "code",
   "execution_count": 21,
   "metadata": {
    "collapsed": true
   },
   "outputs": [],
   "source": [
    "new_opm_name = directory+'/'+PDB_CODE+'_fill_opm.pdb'\n",
    "! cp $DOWNLOADS/*_fill.pdb $new_opm_name"
   ]
  },
  {
   "cell_type": "code",
   "execution_count": 24,
   "metadata": {
    "collapsed": true
   },
   "outputs": [],
   "source": [
    "new_loop_opm_name = directory+'/'+PDB_CODE+'_fill_loop_opm.pdb'\n",
    "! cp $DOWNLOADS/*_fill_loop.pdb $new_loop_opm_name"
   ]
  },
  {
   "cell_type": "code",
   "execution_count": null,
   "metadata": {
    "collapsed": true
   },
   "outputs": [],
   "source": [
    "! rm $DOWNLOADS/*_fill.pdb\n",
    "! rm $DOWNLOADS/*_fill_loop.pdb"
   ]
  },
  {
   "cell_type": "markdown",
   "metadata": {},
   "source": [
    "### 9. compare the oriented structure with the original opm:"
   ]
  },
  {
   "cell_type": "code",
   "execution_count": 116,
   "metadata": {
    "collapsed": true
   },
   "outputs": [],
   "source": [
    "original_opm = '../opm/'+PDB_CODE+'.pdb'"
   ]
  },
  {
   "cell_type": "code",
   "execution_count": 25,
   "metadata": {
    "collapsed": true
   },
   "outputs": [],
   "source": [
    "! /Applications/Chimera.app/Contents/MacOS/chimera $directory/$new_loop_opm_name $original_opm"
   ]
  },
  {
   "cell_type": "markdown",
   "metadata": {},
   "source": [
    "### 10. remove HETATMs from pdb:"
   ]
  },
  {
   "cell_type": "code",
   "execution_count": 26,
   "metadata": {
    "collapsed": true
   },
   "outputs": [],
   "source": [
    "with open(new_loop_opm_name) as opm_file:\n",
    "    input_file = open(directory+'/'+PDB_CODE+'_inp.pdb', 'w+')\n",
    "    for i, line in enumerate(opm_file):\n",
    "        if not re.match('HETATM', line):\n",
    "            input_file.write(line)\n",
    "    input_file.write('END')\n",
    "    input_file.close()"
   ]
  },
  {
   "cell_type": "code",
   "execution_count": 87,
   "metadata": {
    "collapsed": true
   },
   "outputs": [],
   "source": [
    "inp_file = PDB_CODE+'_inp.pdb'\n",
    "! open -e $directory/$inp_file"
   ]
  },
  {
   "cell_type": "code",
   "execution_count": 118,
   "metadata": {},
   "outputs": [
    {
     "data": {
      "application/vnd.jupyter.widget-view+json": {
       "model_id": "c3e031c1fdc745be909326ab6747e899",
       "version_major": 2,
       "version_minor": 0
      },
      "text/plain": [
       "A Jupyter Widget"
      ]
     },
     "metadata": {},
     "output_type": "display_data"
    }
   ],
   "source": [
    "view = nv.show_file(directory+'/'+PDB_CODE+'_inp.pdb')\n",
    "view"
   ]
  },
  {
   "cell_type": "markdown",
   "metadata": {},
   "source": [
    "### 11. upload to charmm-gui:\n",
    "http://www.charmm-gui.org/?doc=input/membrane"
   ]
  },
  {
   "cell_type": "markdown",
   "metadata": {},
   "source": [
    "#### after step 3 check packing:"
   ]
  },
  {
   "cell_type": "code",
   "execution_count": 130,
   "metadata": {},
   "outputs": [],
   "source": [
    "tar = tarfile.open(DOWNLOADS+'/charmm-gui.tgz', 'r:gz')\n",
    "for member in tar.getmembers():\n",
    "    if re.search('step3_packing.pdb', member.name):\n",
    "        f = tar.extract(member, 'temp')\n",
    "f = [i for i in os.listdir('temp') if re.match('charmm-gui', i)]\n",
    "step3_pdb = 'temp/'+f[0]+'/step3_packing.pdb'"
   ]
  },
  {
   "cell_type": "code",
   "execution_count": 132,
   "metadata": {},
   "outputs": [],
   "source": [
    "! /Applications/Chimera.app/Contents/MacOS/chimera $step3_pdb $original_opm"
   ]
  },
  {
   "cell_type": "code",
   "execution_count": null,
   "metadata": {
    "collapsed": true
   },
   "outputs": [],
   "source": [
    "! rm $DOWNLOADS/charmm-gui.tgz"
   ]
  },
  {
   "cell_type": "markdown",
   "metadata": {},
   "source": [
    "### 12. prepare charmm-gui to NAMD "
   ]
  },
  {
   "cell_type": "code",
   "execution_count": 135,
   "metadata": {},
   "outputs": [
    {
     "name": "stdout",
     "output_type": "stream",
     "text": [
      "cp: /Users/evabertalan/Downloads/charmm-gui.tgz: No such file or directory\r\n"
     ]
    }
   ],
   "source": [
    "! cp $DOWNLOADS/charmm-gui.tgz $directory"
   ]
  },
  {
   "cell_type": "code",
   "execution_count": 200,
   "metadata": {},
   "outputs": [],
   "source": [
    "tar = tarfile.open(directory+'/charmm-gui.tgz', 'r:gz')\n",
    "tar.extractall(directory)\n",
    "charmm_folder = [i for i in os.listdir(directory) if re.match('charmm-gui-', i)][0]\n",
    "namd_folder = directory+charmm_folder+'/namd/'\n",
    "inp_files = sorted([namd_folder+i for i in os.listdir(namd_folder) if re.match(r'(step6.).*\\_equilibration.inp$', i)])\n",
    "prod_file = namd_folder+'step7.1_production.inp'"
   ]
  },
  {
   "cell_type": "code",
   "execution_count": 201,
   "metadata": {
    "collapsed": true
   },
   "outputs": [],
   "source": [
    "PMEGridSize = '120'\n",
    "langevinDamping = '5.0'"
   ]
  },
  {
   "cell_type": "code",
   "execution_count": 207,
   "metadata": {},
   "outputs": [],
   "source": [
    "def write_namd_input(inp_files):\n",
    "    for inp_file in inp_files:\n",
    "        with open(inp_file, 'r+') as f:\n",
    "            content = f.readlines()\n",
    "            output = ''\n",
    "            for i, line in enumerate(content):\n",
    "                if re.match('wrapWater', line):\n",
    "                    output += 'wrapWater   off;\\n'\n",
    "\n",
    "                elif re.match('wrapAll', line):\n",
    "                    output += 'wrapAll   off;\\n'\n",
    "\n",
    "                elif re.match('wrapNearest', line):\n",
    "                    output += 'wrapNearest   off;\\n'\n",
    "\n",
    "                elif re.match('PMEGridSpacing', line):\n",
    "                    output += 'PMEGridSizeX   '+PMEGridSize+';\\n'\n",
    "                    output += 'PMEGridSizeY   '+PMEGridSize+';\\n'\n",
    "                    output += 'PMEGridSizeZ   '+PMEGridSize+';\\n'\n",
    "\n",
    "                elif re.match('langevinDamping', line):\n",
    "                    output += 'langevinDamping   '+langevinDamping+';\\n'\n",
    "\n",
    "                else:\n",
    "                    output += line\n",
    "            f.seek(0)\n",
    "            f.write(output)"
   ]
  },
  {
   "cell_type": "code",
   "execution_count": null,
   "metadata": {
    "collapsed": true
   },
   "outputs": [],
   "source": [
    "write_namd_input(inp_files)"
   ]
  },
  {
   "cell_type": "code",
   "execution_count": 208,
   "metadata": {
    "collapsed": true
   },
   "outputs": [],
   "source": [
    "write_namd_input([prod_file])"
   ]
  },
  {
   "cell_type": "markdown",
   "metadata": {},
   "source": [
    "### 13. create job.sh"
   ]
  },
  {
   "cell_type": "code",
   "execution_count": 224,
   "metadata": {
    "collapsed": true
   },
   "outputs": [],
   "source": [
    "def create_job_script(cluster, step):\n",
    "    files = os.listdir('job_scripts')\n",
    "    file_name = cluster+'_'+step+'.sh'\n",
    "    for f in files:\n",
    "        if re.match(file_name, f):\n",
    "            shutil.copy('job_scripts/'+file_name, namd_folder+step+'_job.sh')"
   ]
  },
  {
   "cell_type": "markdown",
   "metadata": {},
   "source": [
    "* cluster = 'hlrn', 'leonard'\n",
    "* step = 'eq', 'prod'"
   ]
  },
  {
   "cell_type": "code",
   "execution_count": 223,
   "metadata": {},
   "outputs": [],
   "source": [
    " create_job_script('hlrn', 'eq')"
   ]
  },
  {
   "cell_type": "markdown",
   "metadata": {},
   "source": [
    "### 14. upload charrm folder to cluster"
   ]
  },
  {
   "cell_type": "markdown",
   "metadata": {},
   "source": [
    "* check input files\n",
    "* set numsteps\n",
    "* update job.sh\n",
    "* scp to cluster\n",
    "* run namd"
   ]
  }
 ],
 "metadata": {
  "kernelspec": {
   "display_name": "Python 3",
   "language": "python",
   "name": "python3"
  },
  "language_info": {
   "codemirror_mode": {
    "name": "ipython",
    "version": 3
   },
   "file_extension": ".py",
   "mimetype": "text/x-python",
   "name": "python",
   "nbconvert_exporter": "python",
   "pygments_lexer": "ipython3",
   "version": "3.6.8"
  },
  "latex_envs": {
   "LaTeX_envs_menu_present": true,
   "autoclose": false,
   "autocomplete": true,
   "bibliofile": "biblio.bib",
   "cite_by": "apalike",
   "current_citInitial": 1,
   "eqLabelWithNumbers": true,
   "eqNumInitial": 1,
   "hotkeys": {
    "equation": "Ctrl-E",
    "itemize": "Ctrl-I"
   },
   "labels_anchors": false,
   "latex_user_defs": false,
   "report_style_numbering": false,
   "user_envs_cfg": false
  }
 },
 "nbformat": 4,
 "nbformat_minor": 2
}
