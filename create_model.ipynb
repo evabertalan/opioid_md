{
 "cells": [
  {
   "cell_type": "code",
   "execution_count": 13,
   "metadata": {
    "collapsed": true
   },
   "outputs": [],
   "source": [
    "import os, errno\n",
    "from sys import platform\n",
    "import importlib\n",
    "import re\n",
    "import shutil\n",
    "import tarfile\n",
    "# import nglview as nv\n",
    "from Bio import pairwise2\n",
    "from Bio import SeqIO\n",
    "import MDAnalysis as mda\n",
    "from MDAnalysis.analysis import align\n",
    "from modeller_script.evaluate_modeller import evaluate_modeller"
   ]
  },
  {
   "cell_type": "code",
   "execution_count": 2,
   "metadata": {
    "collapsed": true
   },
   "outputs": [],
   "source": [
    "def create_directory(directory):\n",
    "    try:\n",
    "        os.makedirs(directory)\n",
    "    except OSError as e:\n",
    "        if e.errno != errno.EEXIST:\n",
    "            raise\n",
    "    \n",
    "    return directory"
   ]
  },
  {
   "cell_type": "code",
   "execution_count": 3,
   "metadata": {
    "collapsed": true
   },
   "outputs": [],
   "source": [
    "def move_files(source, dest, file_name):\n",
    "    files = os.listdir(source)\n",
    "    for f in files:\n",
    "        if re.match(file_name, f):\n",
    "            shutil.move(source+f, dest)"
   ]
  },
  {
   "cell_type": "code",
   "execution_count": 14,
   "metadata": {
    "collapsed": true
   },
   "outputs": [],
   "source": [
    "DOWNLOADS = '/Users/evabertalan/Downloads'\n",
    "\n",
    "vmd_mac = '/Applications/VMD\\ 1.9.3.app/Contents/Resources/VMD.app/Contents/MacOS/VMD'\n",
    "vmd_linux = '/net/opt/bin/vmd'\n",
    "vmd = vmd_linux if platform == 'linux' else vmd_mac\n",
    "\n",
    "chimera_mac = '/Applications/Chimera.app/Contents/MacOS/chimera'\n",
    "chimra_linux = '/home/bertalae93/.local/UCSF-Chimera64-1.13.1/bin/chimera'\n",
    "chimera = chimra_linux if platform == 'linux' else chimera_mac"
   ]
  },
  {
   "cell_type": "markdown",
   "metadata": {},
   "source": [
    "### 1. prepare directory"
   ]
  },
  {
   "cell_type": "code",
   "execution_count": 6,
   "metadata": {
    "collapsed": true
   },
   "outputs": [],
   "source": [
    "PDB_CODE = '4N6H'\n",
    "CHAIN = 'A'\n",
    "ID = 'Na'"
   ]
  },
  {
   "cell_type": "code",
   "execution_count": 7,
   "metadata": {
    "collapsed": true
   },
   "outputs": [],
   "source": [
    "folder_name = PDB_CODE+ID\n",
    "path = '../'+folder_name"
   ]
  },
  {
   "cell_type": "code",
   "execution_count": 8,
   "metadata": {
    "collapsed": true
   },
   "outputs": [],
   "source": [
    "directory = create_directory(path)"
   ]
  },
  {
   "cell_type": "code",
   "execution_count": 9,
   "metadata": {},
   "outputs": [
    {
     "data": {
      "text/plain": [
       "'../4N6HNa/results/plots'"
      ]
     },
     "execution_count": 9,
     "metadata": {},
     "output_type": "execute_result"
    }
   ],
   "source": [
    "create_directory(directory+'/results')\n",
    "create_directory(directory+'/results/plots')"
   ]
  },
  {
   "cell_type": "markdown",
   "metadata": {},
   "source": [
    "### 2. download pdb file and fasta sequence:"
   ]
  },
  {
   "cell_type": "code",
   "execution_count": 10,
   "metadata": {
    "collapsed": true
   },
   "outputs": [
    {
     "name": "stdout",
     "output_type": "stream",
     "text": [
      "  % Total    % Received % Xferd  Average Speed   Time    Time     Time  Current\n",
      "                                 Dload  Upload   Total   Spent    Left  Speed\n",
      "100  624k    0  624k    0     0   471k      0 --:--:--  0:00:01 --:--:--  471k\n"
     ]
    }
   ],
   "source": [
    "file_name = PDB_CODE+'.pdb'\n",
    "! (cd $directory && curl -O https://files.rcsb.org/download/$file_name)"
   ]
  },
  {
   "cell_type": "code",
   "execution_count": 11,
   "metadata": {
    "collapsed": true
   },
   "outputs": [
    {
     "name": "stdout",
     "output_type": "stream",
     "text": [
      "  % Total    % Received % Xferd  Average Speed   Time    Time     Time  Current\n",
      "                                 Dload  Upload   Total   Spent    Left  Speed\n",
      "100   449    0   449    0     0    910      0 --:--:-- --:--:-- --:--:--   908\n"
     ]
    }
   ],
   "source": [
    "fasta_path = directory+'/'+PDB_CODE+'.fasta'\n",
    "fasta_url = '\"'+'https://www.rcsb.org/pdb/download/downloadFile.do?fileFormat=fastachain&compression=NO&structureId='+PDB_CODE+'&chainId='+CHAIN+'\"'        \n",
    "! curl -o $fasta_path $fasta_url"
   ]
  },
  {
   "cell_type": "markdown",
   "metadata": {},
   "source": [
    "#### check pdb in chimera:"
   ]
  },
  {
   "cell_type": "code",
   "execution_count": 16,
   "metadata": {},
   "outputs": [],
   "source": [
    "! $chimera $directory/$file_name"
   ]
  },
  {
   "cell_type": "markdown",
   "metadata": {},
   "source": [
    "### 3. create sequence:"
   ]
  },
  {
   "cell_type": "code",
   "execution_count": null,
   "metadata": {
    "collapsed": true
   },
   "outputs": [],
   "source": [
    "! (cd $directory && mod9.21 ../code/modeller_script/get_seq.py $PDB_CODE $CHAIN)"
   ]
  },
  {
   "cell_type": "markdown",
   "metadata": {},
   "source": [
    "### 4. create alignement:"
   ]
  },
  {
   "cell_type": "code",
   "execution_count": null,
   "metadata": {
    "collapsed": true
   },
   "outputs": [],
   "source": [
    "def create_alignment(pdb_code, chain, directory):\n",
    "    sequence_path = directory+'/'+pdb_code+'.seq'\n",
    "    ali_path = directory+'/alignment.ali'\n",
    "\n",
    "    sequence = ''\n",
    "    fasta = SeqIO.read(directory+'/'+PDB_CODE+'.fasta', 'fasta').seq\n",
    "\n",
    "    with open(sequence_path) as sequence_file:\n",
    "        alignment_file = open(ali_path, 'w+')\n",
    "        for i, line in enumerate(sequence_file):\n",
    "            if i < 3:\n",
    "                alignment_file.write(line)\n",
    "            else:\n",
    "                sequence += line\n",
    "                \n",
    "        sequence = sequence[:-2]        \n",
    "        alignments = pairwise2.align.globalxx(fasta, sequence)\n",
    "\n",
    "        alignment_file.write(alignments[0][1])\n",
    "        alignment_file.write('*\\n')\n",
    "        alignment_file.write('>P1;'+pdb_code+'_fill\\n')\n",
    "        alignment_file.write('sequence:::::::::\\n')\n",
    "        alignment_file.write(str(fasta)+'*')\n",
    "        alignment_file.close()"
   ]
  },
  {
   "cell_type": "code",
   "execution_count": null,
   "metadata": {
    "collapsed": true
   },
   "outputs": [],
   "source": [
    "create_alignment(PDB_CODE, CHAIN, directory)"
   ]
  },
  {
   "cell_type": "markdown",
   "metadata": {},
   "source": [
    "### 5. compose template and target sequence:\n",
    "\ttemplate: >P1;6b73\n",
    "\t\t\t\tstructureX:6b73:\n",
    "\t\t\t\t- - - for missing residues\n",
    "\ttarget: >P1;6b73_fill\n",
    "\t\t\t\tsequence:::::::::\n",
    "\t\t\t\tinsert residues where it missing;\n",
    "\t\t\t\t- - - for residues what are not needed"
   ]
  },
  {
   "cell_type": "code",
   "execution_count": null,
   "metadata": {
    "collapsed": true
   },
   "outputs": [],
   "source": [
    "! open -e $ali_path\n",
    "! /Applications/Chimera.app/Contents/MacOS/chimera $directory/$file_name"
   ]
  },
  {
   "cell_type": "markdown",
   "metadata": {},
   "source": [
    "### 6. run modeller:\n",
    " * knowns = sys.argv[1]\n",
    " * sequence = sys.argv[2]\n",
    " * num_models = sys.argv[3]\n",
    " * num_loops = sys.argv[4]"
   ]
  },
  {
   "cell_type": "code",
   "execution_count": null,
   "metadata": {
    "collapsed": true
   },
   "outputs": [],
   "source": [
    "pdb_fill = PDB_CODE+'_fill'\n",
    "! (cd $directory && mod9.21 ../code/modeller_script/loopmodel.py $PDB_CODE $pdb_fill 20 4)"
   ]
  },
  {
   "cell_type": "markdown",
   "metadata": {},
   "source": [
    "### 7. evaluate modeller result:"
   ]
  },
  {
   "cell_type": "code",
   "execution_count": null,
   "metadata": {},
   "outputs": [],
   "source": [
    "file_name = pdb_fill+'.'\n",
    "best_model, best_loop = evaluate_modeller(file_name, loop=False)"
   ]
  },
  {
   "cell_type": "code",
   "execution_count": null,
   "metadata": {
    "collapsed": true
   },
   "outputs": [],
   "source": [
    "! /Applications/Chimera.app/Contents/MacOS/chimera $directory/$best_model $directory/$best_loop"
   ]
  },
  {
   "cell_type": "code",
   "execution_count": null,
   "metadata": {
    "collapsed": true
   },
   "outputs": [],
   "source": [
    "def copy_best(source, dest, file_name, best):\n",
    "    files = os.listdir(source)\n",
    "    for f in files:\n",
    "        if re.match(best, f):\n",
    "            shutil.copy(source+'/'+f, dest+file_name+'pdb')"
   ]
  },
  {
   "cell_type": "code",
   "execution_count": null,
   "metadata": {
    "collapsed": true
   },
   "outputs": [],
   "source": [
    "model_folder = create_directory(directory+'/models')\n",
    "move_files(directory+'/', model_folder, file_name, best_model)\n",
    "copy_best(model_folder, directory+'/', file_name, best_model)\n",
    "copy_best(model_folder, directory+'/', file_name[:-1]+'_loop.', best_loop)"
   ]
  },
  {
   "cell_type": "code",
   "execution_count": null,
   "metadata": {
    "collapsed": true
   },
   "outputs": [],
   "source": [
    "! cp ./modeller_script/loopmodel.log $model_folder"
   ]
  },
  {
   "cell_type": "markdown",
   "metadata": {},
   "source": [
    "### 8. upload to OPM:\n",
    "PDB_CODE_fill.pdb\n",
    "https://opm.phar.umich.edu/ppm_server"
   ]
  },
  {
   "cell_type": "code",
   "execution_count": 17,
   "metadata": {
    "collapsed": true
   },
   "outputs": [
    {
     "name": "stdout",
     "output_type": "stream",
     "text": [
      "cp: cannot stat '/Users/evabertalan/Downloads/*_fill.pdb': No such file or directory\n"
     ]
    }
   ],
   "source": [
    "new_opm_name = directory+'/'+PDB_CODE+'_fill_opm.pdb'\n",
    "! cp $DOWNLOADS/*_fill.pdb $new_opm_name"
   ]
  },
  {
   "cell_type": "code",
   "execution_count": null,
   "metadata": {
    "collapsed": true
   },
   "outputs": [],
   "source": [
    "new_loop_opm_name = directory+'/'+PDB_CODE+'_fill_loop_opm.pdb'\n",
    "! cp $DOWNLOADS/*_fill_loop.pdb $new_loop_opm_name"
   ]
  },
  {
   "cell_type": "code",
   "execution_count": null,
   "metadata": {
    "collapsed": true
   },
   "outputs": [],
   "source": [
    "! rm $DOWNLOADS/*_fill.pdb\n",
    "! rm $DOWNLOADS/*_fill_loop.pdb"
   ]
  },
  {
   "cell_type": "markdown",
   "metadata": {},
   "source": [
    "### 9. compare the oriented structure with the original opm:"
   ]
  },
  {
   "cell_type": "code",
   "execution_count": 18,
   "metadata": {
    "collapsed": true
   },
   "outputs": [],
   "source": [
    "original_opm = '../opm/'+PDB_CODE+'.pdb'"
   ]
  },
  {
   "cell_type": "code",
   "execution_count": null,
   "metadata": {
    "collapsed": true
   },
   "outputs": [],
   "source": [
    "! /Applications/Chimera.app/Contents/MacOS/chimera $directory/$new_opm_name $original_opm"
   ]
  },
  {
   "cell_type": "markdown",
   "metadata": {},
   "source": [
    "### 10. remove HETATMs from pdb:"
   ]
  },
  {
   "cell_type": "code",
   "execution_count": 23,
   "metadata": {},
   "outputs": [],
   "source": [
    "# new_opm_name = '../4N6HNa/4N6HNa_opm.pdb'"
   ]
  },
  {
   "cell_type": "code",
   "execution_count": 24,
   "metadata": {
    "collapsed": true
   },
   "outputs": [],
   "source": [
    "with open(new_opm_name) as opm_file:\n",
    "    input_file = open(directory+'/'+PDB_CODE+'_inp.pdb', 'w+')\n",
    "    for i, line in enumerate(opm_file):\n",
    "        if not re.match('HETATM', line):\n",
    "            input_file.write(line)\n",
    "    input_file.write('END')\n",
    "    input_file.close()"
   ]
  },
  {
   "cell_type": "code",
   "execution_count": 25,
   "metadata": {
    "collapsed": true
   },
   "outputs": [
    {
     "name": "stdout",
     "output_type": "stream",
     "text": [
      "Couldn't get a file descriptor referring to the console\n"
     ]
    }
   ],
   "source": [
    "inp_file = PDB_CODE+'_inp.pdb'\n",
    "! open -e $directory/$inp_file"
   ]
  },
  {
   "cell_type": "code",
   "execution_count": null,
   "metadata": {},
   "outputs": [],
   "source": [
    "view = nv.show_file(directory+'/'+PDB_CODE+'_inp.pdb')\n",
    "view"
   ]
  },
  {
   "cell_type": "markdown",
   "metadata": {},
   "source": [
    "### 11. upload to charmm-gui:\n",
    "http://www.charmm-gui.org/?doc=input/membrane"
   ]
  },
  {
   "cell_type": "markdown",
   "metadata": {},
   "source": [
    "#### after step 3 check packing:"
   ]
  },
  {
   "cell_type": "code",
   "execution_count": null,
   "metadata": {
    "collapsed": true
   },
   "outputs": [],
   "source": [
    "tar = tarfile.open(DOWNLOADS+'/charmm-gui.tgz', 'r:gz')\n",
    "for member in tar.getmembers():\n",
    "    if re.search('step3_packing.pdb', member.name):\n",
    "        f = tar.extract(member, 'temp')\n",
    "f = [i for i in os.listdir('temp') if re.match('charmm-gui', i)]\n",
    "step3_pdb = 'temp/'+f[0]+'/step3_packing.pdb'"
   ]
  },
  {
   "cell_type": "code",
   "execution_count": null,
   "metadata": {
    "collapsed": true
   },
   "outputs": [],
   "source": [
    "! /Applications/Chimera.app/Contents/MacOS/chimera $step3_pdb $original_opm"
   ]
  },
  {
   "cell_type": "code",
   "execution_count": null,
   "metadata": {
    "collapsed": true
   },
   "outputs": [],
   "source": [
    "! rm $DOWNLOADS/charmm-gui.tgz"
   ]
  },
  {
   "cell_type": "markdown",
   "metadata": {},
   "source": [
    "### 12. prepare charmm-gui to NAMD "
   ]
  },
  {
   "cell_type": "code",
   "execution_count": null,
   "metadata": {},
   "outputs": [],
   "source": [
    "! cp $DOWNLOADS/charmm-gui.tgz $directory"
   ]
  },
  {
   "cell_type": "code",
   "execution_count": null,
   "metadata": {},
   "outputs": [],
   "source": [
    "tar = tarfile.open(directory+'/charmm-gui.tgz', 'r:gz')\n",
    "tar.extractall(directory)\n",
    "charmm_folder = [i for i in os.listdir(directory) if re.match('charmm-gui-', i)][0]\n",
    "namd_folder = directory+charmm_folder+'/namd/'\n",
    "inp_files = sorted([namd_folder+i for i in os.listdir(namd_folder) if re.match(r'(step6.).*\\_equilibration.inp$', i)])\n",
    "prod_file = namd_folder+'step7.1_production.inp'"
   ]
  },
  {
   "cell_type": "markdown",
   "metadata": {},
   "source": [
    "* create folder named: FOLDERANAME_inp\n",
    "* and copy all required files for namd on cluster\n",
    "* copy folder to cluster\n",
    "* run simulation"
   ]
  },
  {
   "cell_type": "code",
   "execution_count": null,
   "metadata": {
    "collapsed": true
   },
   "outputs": [],
   "source": [
    "PMEGridSize = '120'\n",
    "langevinDamping = '5.0'"
   ]
  },
  {
   "cell_type": "code",
   "execution_count": null,
   "metadata": {
    "collapsed": true
   },
   "outputs": [],
   "source": [
    "def write_namd_input(inp_files):\n",
    "    for inp_file in inp_files:\n",
    "        with open(inp_file, 'r+') as f:\n",
    "            content = f.readlines()\n",
    "            output = ''\n",
    "            for i, line in enumerate(content):\n",
    "                if re.match('wrapWater', line):\n",
    "                    output += 'wrapWater   off \\n'\n",
    "\n",
    "                elif re.match('wrapAll', line):\n",
    "                    output += 'wrapAll   off \\n'\n",
    "\n",
    "                elif re.match('wrapNearest', line):\n",
    "                    output += 'wrapNearest   off \\n'\n",
    "\n",
    "                elif re.match('PMEGridSpacing', line):\n",
    "                    output += 'PMEGridSizeX   '+PMEGridSize+' \\n'\n",
    "                    output += 'PMEGridSizeY   '+PMEGridSize+' \\n'\n",
    "                    output += 'PMEGridSizeZ   '+PMEGridSize+' \\n'\n",
    "\n",
    "                elif re.match('langevinDamping', line):\n",
    "                    output += 'langevinDamping   '+langevinDamping+' \\n'\n",
    "\n",
    "                else:\n",
    "                    output += line\n",
    "                print(line)\n",
    "            f.seek(0)\n",
    "            f.write(output)\n",
    "            f.truncate()"
   ]
  },
  {
   "cell_type": "code",
   "execution_count": null,
   "metadata": {},
   "outputs": [],
   "source": [
    "write_namd_input(inp_files)"
   ]
  },
  {
   "cell_type": "code",
   "execution_count": null,
   "metadata": {
    "collapsed": true
   },
   "outputs": [],
   "source": [
    "# write_namd_input([prod_file])"
   ]
  },
  {
   "cell_type": "markdown",
   "metadata": {},
   "source": [
    "### 13. create job.sh"
   ]
  },
  {
   "cell_type": "code",
   "execution_count": null,
   "metadata": {
    "collapsed": true
   },
   "outputs": [],
   "source": [
    "def create_job_script(cluster, step):\n",
    "    files = os.listdir('job_scripts')\n",
    "    file_name = cluster+'_'+step+'.sh'\n",
    "    for f in files:\n",
    "        if re.match(file_name, f):\n",
    "            shutil.copy('job_scripts/'+file_name, namd_folder+step+'_job.sh')"
   ]
  },
  {
   "cell_type": "markdown",
   "metadata": {},
   "source": [
    "* cluster = 'hlrn', 'leonard'\n",
    "* step = 'eq', 'prod'"
   ]
  },
  {
   "cell_type": "code",
   "execution_count": null,
   "metadata": {
    "collapsed": true
   },
   "outputs": [],
   "source": [
    " create_job_script('hlrn', 'eq')"
   ]
  },
  {
   "cell_type": "markdown",
   "metadata": {},
   "source": [
    "### 14. upload charrm folder to cluster"
   ]
  },
  {
   "cell_type": "markdown",
   "metadata": {},
   "source": [
    "* check input files\n",
    "* set numsteps\n",
    "* update job.sh\n",
    "* scp to cluster\n",
    "* run namd"
   ]
  },
  {
   "cell_type": "code",
   "execution_count": 26,
   "metadata": {},
   "outputs": [
    {
     "name": "stdout",
     "output_type": "stream",
     "text": [
      "286\n"
     ]
    }
   ],
   "source": [
    "print(len('SPGARSASSLALAIAITALYSAVCAVGLLGNVLVMFGIVRYTKMKTATNIYIFNLALADALATSTLPFQSAKYLMETWPFGELLCKAVLSIDYYNMFTSIFTLTMMSVDRYIAVCHPVKALDFRTPAKAKLINICIWVLASGVGVPIMVMAVTRPRDGAVVCMLQFPSPSWYWDTVTKICVFLFAFVVPILIITVCYGLMLLRLRSVRLLSGSKEKDRSLRRITRMVLVVVGAFVVCWAPIHIFVIVWTLVDIDRRDPLVVAALHLCIALGYANSSLNPVLYAFLD'))"
   ]
  },
  {
   "cell_type": "code",
   "execution_count": 27,
   "metadata": {},
   "outputs": [
    {
     "name": "stdout",
     "output_type": "stream",
     "text": [
      "286\n"
     ]
    }
   ],
   "source": [
    "print(len('SPGARSASSLALAIAITALYSAVCAVGLLGNVLVMFGIVRYTKMKTATNIYIFNLALADALATSTLPFQSAKYLMETWPFGELLCKAVLSIDYYNMFTSIFTLTMMSVDRYIAVCHPVKALDFRTPAKAKLINICIWVLASGVGVPIMVMAVTRPRDGAVVCMLQFPSPSWYWDTVTKICVFLFAFVVPILIITVCYGLMLLRLRSVRLLSGSKEKDRSLRRITRMVLVVVGAFVVCWAPIHIFVIVWTLVDIDRRDPLVVAALHLCIALGYANSSLNPVLYAFLD'))"
   ]
  },
  {
   "cell_type": "code",
   "execution_count": null,
   "metadata": {},
   "outputs": [],
   "source": []
  }
 ],
 "metadata": {
  "kernelspec": {
   "display_name": "Python 3",
   "language": "python",
   "name": "python3"
  },
  "language_info": {
   "codemirror_mode": {
    "name": "ipython",
    "version": 3
   },
   "file_extension": ".py",
   "mimetype": "text/x-python",
   "name": "python",
   "nbconvert_exporter": "python",
   "pygments_lexer": "ipython3",
   "version": "3.6.8"
  },
  "latex_envs": {
   "LaTeX_envs_menu_present": true,
   "autoclose": false,
   "autocomplete": true,
   "bibliofile": "biblio.bib",
   "cite_by": "apalike",
   "current_citInitial": 1,
   "eqLabelWithNumbers": true,
   "eqNumInitial": 1,
   "hotkeys": {
    "equation": "Ctrl-E",
    "itemize": "Ctrl-I"
   },
   "labels_anchors": false,
   "latex_user_defs": false,
   "report_style_numbering": false,
   "user_envs_cfg": false
  }
 },
 "nbformat": 4,
 "nbformat_minor": 2
}
