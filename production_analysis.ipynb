{
 "cells": [
  {
   "cell_type": "code",
   "execution_count": null,
   "metadata": {},
   "outputs": [],
   "source": [
    "import analyse\n",
    "from sys import platform\n",
    "import os\n",
    "import re\n",
    "import importlib\n",
    "import MDAnalysis as mda\n",
    "import MDAnalysis.analysis.rms as rms\n",
    "import MDAnalysis.analysis.hbonds\n",
    "import pandas as pd\n",
    "import matplotlib.pyplot as plt\n",
    "import numpy as np\n",
    "%matplotlib inline"
   ]
  },
  {
   "cell_type": "code",
   "execution_count": null,
   "metadata": {},
   "outputs": [],
   "source": [
    "def save_figure(fig, target):\n",
    "    fig.savefig(target)"
   ]
  },
  {
   "cell_type": "code",
   "execution_count": null,
   "metadata": {},
   "outputs": [],
   "source": [
    "importlib.reload(analyse)"
   ]
  },
  {
   "cell_type": "markdown",
   "metadata": {},
   "source": [
    "#### Define work folder:"
   ]
  },
  {
   "cell_type": "code",
   "execution_count": null,
   "metadata": {
    "collapsed": true
   },
   "outputs": [],
   "source": [
    "PDB_CODE = '6b73'\n",
    "SEQ = 'B'\n",
    "folder = '../'+PDB_CODE+SEQ+'/'\n",
    "results_folder = folder+'results/'\n",
    "plot_folder = folder+'plots/'"
   ]
  },
  {
   "cell_type": "markdown",
   "metadata": {},
   "source": [
    "#### Load trajectory files:"
   ]
  },
  {
   "cell_type": "code",
   "execution_count": null,
   "metadata": {},
   "outputs": [],
   "source": [
    "prod_file_count = len(sorted([results_folder+'namd/'+i for i in os.listdir(results_folder+'namd/') if re.match(r'(step7.).*\\_production.dcd$', i)]))\n",
    "prod_dcd = [results_folder+'namd/step7.'+str(i)+'_production.dcd' for i in range(1,prod_file_count+1)]\n",
    "eq_dcd = [results_folder+'namd/step6.'+str(i)+'_equilibration.dcd' for i in range(1,7)]\n",
    "all_dcd = list(np.concatenate((eq_dcd, prod_dcd)))\n",
    "print(all_dcd)"
   ]
  },
  {
   "cell_type": "markdown",
   "metadata": {},
   "source": [
    "# RMSD"
   ]
  },
  {
   "cell_type": "markdown",
   "metadata": {},
   "source": [
    "#### RMSD of all trajectory:"
   ]
  },
  {
   "cell_type": "code",
   "execution_count": null,
   "metadata": {},
   "outputs": [],
   "source": [
    "all_traj =  mda.Universe(results_folder+'step5_assembly.xplor_ext.psf', all_dcd)\n",
    "# all_traj =  mda.Universe(results_folder+'step5_assembly.psf', all_dcd)\n",
    "\n",
    "\n",
    "# ref = mda.Universe(folder+PDB_CODE+'_inp.pdb')\n",
    "ref = mda.Universe(results_folder+'step5_assembly.namd.pdb')\n",
    "# ref = mda.Universe(results_folder+'namd/step5_charmm2namd.pdb')\n",
    "\n",
    "title = 'RMSD of C-alpha atoms'\n",
    "R, r_fig = analyse.rmsd_traj(all_traj, ref, title)"
   ]
  },
  {
   "cell_type": "code",
   "execution_count": null,
   "metadata": {},
   "outputs": [],
   "source": [
    "save_figure(r_fig[0].figure, plot_folder+'all_rmsd')"
   ]
  },
  {
   "cell_type": "markdown",
   "metadata": {},
   "source": [
    "#### RMSD of production steps:"
   ]
  },
  {
   "cell_type": "code",
   "execution_count": null,
   "metadata": {},
   "outputs": [],
   "source": [
    "prod_traj = mda.Universe(results_folder+'step5_assembly.xplor_ext.psf', prod_dcd)\n",
    "\n",
    "title = 'RMSD of C-alpha atoms over production steps'\n",
    "R, r_fig = analyse.rmsd_traj(prod_traj, ref, title)"
   ]
  },
  {
   "cell_type": "code",
   "execution_count": null,
   "metadata": {},
   "outputs": [],
   "source": [
    "save_figure(r_fig[0].figure, plot_folder+'prod_rmsd')"
   ]
  },
  {
   "cell_type": "markdown",
   "metadata": {},
   "source": [
    "### Structure analysis of the protein:"
   ]
  },
  {
   "cell_type": "code",
   "execution_count": null,
   "metadata": {},
   "outputs": [],
   "source": [
    "# pdb_file = folder+PDB_CODE+'_inp.pdb'\n",
    "# struct = analyse.secondary_structure(pdb_file, PDB_CODE)\n",
    "# print(struct)"
   ]
  },
  {
   "cell_type": "code",
   "execution_count": null,
   "metadata": {},
   "outputs": [],
   "source": [
    "loop_inf = np.loadtxt(folder+'loop_inf.txt', dtype='int')\n",
    "helix = np.array([])\n",
    "for row in loop_inf:\n",
    "    helix = np.concatenate((helix, np.arange(row[1], row[2]+1)))\n",
    "struct = {'helix': helix}\n",
    "print(struct)"
   ]
  },
  {
   "cell_type": "markdown",
   "metadata": {},
   "source": [
    "# RMSF:"
   ]
  },
  {
   "cell_type": "markdown",
   "metadata": {},
   "source": [
    "#### RMSF over production steps:"
   ]
  },
  {
   "cell_type": "code",
   "execution_count": null,
   "metadata": {},
   "outputs": [],
   "source": [
    "rmsf_fig = analyse.rmsf_plot([prod_traj], title='RMSF of residues over production step', structure=struct)"
   ]
  },
  {
   "cell_type": "code",
   "execution_count": null,
   "metadata": {},
   "outputs": [],
   "source": [
    "save_figure(rmsf_fig, plot_folder+'prod_rmsf')"
   ]
  },
  {
   "cell_type": "markdown",
   "metadata": {},
   "source": [
    "## RMSD of the loops:"
   ]
  },
  {
   "cell_type": "code",
   "execution_count": null,
   "metadata": {},
   "outputs": [],
   "source": [
    "r = rms.RMSD(prod_traj.select_atoms('name CA'),\n",
    "             ref.select_atoms('name CA'), \n",
    "             select='name CA', \n",
    "             groupselections=['name CA and resid 3-33',\n",
    "                              'name CA and resid 39-67',\n",
    "                              'name CA and resid 73-107', \n",
    "                              'name CA and resid 118-142',\n",
    "                              'name CA and resid 167-201',\n",
    "                              'name CA and resid 210-245',\n",
    "                              'name CA and resid 252-279',\n",
    "                              'name CA']).run()"
   ]
  },
  {
   "cell_type": "code",
   "execution_count": null,
   "metadata": {},
   "outputs": [],
   "source": [
    "R = r.rmsd.T\n",
    "frame = R[0]\n",
    "time = R[1]\n",
    "\n",
    "r1 = np.average(R[2])\n",
    "r2 = np.average(R[3])\n",
    "r3 = np.average(R[4])\n",
    "r4 = np.average(R[5])\n",
    "r5 = np.average(R[6])\n",
    "r6 = np.average(R[7])\n",
    "r7 = np.average(R[8])\n",
    "r_all = np.average(R[9])\n",
    "r_helix = np.average([r1, r2, r3, r4, r5, r6, r7])"
   ]
  },
  {
   "cell_type": "code",
   "execution_count": null,
   "metadata": {},
   "outputs": [],
   "source": [
    "helix_data = {'all atom': [r_all],\n",
    "              'all TM': r_helix,\n",
    "              'TM1': r1,\n",
    "              'TM2': r2,\n",
    "              'TM3': r3,\n",
    "              'TM4': r4,\n",
    "              'TM5': r5,\n",
    "              'TM6': r6,\n",
    "              'TM7': r7,\n",
    "             }\n",
    "helix_rmsd = pd.DataFrame(data=helix_data)\n",
    "print(helix_rmsd)"
   ]
  },
  {
   "cell_type": "code",
   "execution_count": null,
   "metadata": {},
   "outputs": [],
   "source": [
    "helix_rmsd.to_csv(plot_folder+'helix_rmsd.csv')"
   ]
  },
  {
   "cell_type": "code",
   "execution_count": null,
   "metadata": {},
   "outputs": [],
   "source": [
    "fig, ax = plt.subplots(1, figsize=(18,5))\n",
    "ax.plot(time, R[2], linewidth=0.3, label='1 TM')\n",
    "ax.plot(time, R[3], linewidth=0.3, label='2 TM')\n",
    "ax.plot(time, R[4], linewidth=0.3, label='3 TM')\n",
    "ax.plot(time, R[5], linewidth=0.3, label='4 TM')\n",
    "ax.plot(time, R[6], linewidth=0.3, label='5 TM')\n",
    "ax.plot(time, R[7], linewidth=0.3, label='6 TM')\n",
    "ax.plot(time, R[8], linewidth=0.3, label='7 TM')\n",
    "plt.title('RMSD of transmembrane helices')\n",
    "\n",
    "legend = ax.legend(frameon=True)\n",
    "for legend_handle in legend.legendHandles:\n",
    "    legend_handle._legmarker.set_marker('s')"
   ]
  },
  {
   "cell_type": "code",
   "execution_count": null,
   "metadata": {},
   "outputs": [],
   "source": [
    "save_figure(fig, plot_folder+'helix_rmsd')"
   ]
  },
  {
   "cell_type": "markdown",
   "metadata": {},
   "source": [
    "# PBC"
   ]
  },
  {
   "cell_type": "code",
   "execution_count": null,
   "metadata": {},
   "outputs": [],
   "source": [
    "code = PDB_CODE+SEQ\n",
    "vmd_mac = '/Applications/VMD\\ 1.9.3.app/Contents/Resources/VMD.app/Contents/MacOS/VMD'\n",
    "vmd_linux = '/net/opt/bin/vmd'\n",
    "\n",
    "vmd = vmd_linux if platform == 'linux' else vmd_mac"
   ]
  },
  {
   "cell_type": "code",
   "execution_count": null,
   "metadata": {},
   "outputs": [],
   "source": [
    "print(code)\n",
    "print(vmd)"
   ]
  },
  {
   "cell_type": "code",
   "execution_count": null,
   "metadata": {},
   "outputs": [],
   "source": [
    "# ! (cd './tcl' && $vmd  -dispdev text -e pbc.tcl -args $code > pbc_log.out)"
   ]
  },
  {
   "cell_type": "markdown",
   "metadata": {},
   "source": [
    "# Water count:"
   ]
  },
  {
   "cell_type": "code",
   "execution_count": null,
   "metadata": {},
   "outputs": [],
   "source": [
    "def concatenate_water_per_frame(water_files):\n",
    "    waters = np.loadtxt(water_files[0])\n",
    "    for i in range(1, len(water_files)):\n",
    "        data = np.loadtxt(water_files[i])\n",
    "        waters = np.concatenate((waters, data))\n",
    "    return waters"
   ]
  },
  {
   "cell_type": "code",
   "execution_count": null,
   "metadata": {},
   "outputs": [],
   "source": [
    "def plot_water_within(waters, title=''):\n",
    "    plt.subplots(figsize=(10,5))\n",
    "    fig = plt.plot(waters[:,1], linewidth=0.2)\n",
    "    plt.ylabel('Number of water')\n",
    "    plt.xlabel('Frame')\n",
    "    plt.title(title)\n",
    "    return fig"
   ]
  },
  {
   "cell_type": "markdown",
   "metadata": {},
   "source": [
    "#### water within protein:"
   ]
  },
  {
   "cell_type": "code",
   "execution_count": null,
   "metadata": {},
   "outputs": [],
   "source": [
    "x = 11\n",
    "y = 9\n",
    "z = 15\n",
    "_x = 13\n",
    "_y = 12\n",
    "_z = 18\n",
    "distance = 5\n",
    "parameters =  '{} {} {} {} {} {} {}'.format(x, y, z, _x, _y, _z, distance)"
   ]
  },
  {
   "cell_type": "code",
   "execution_count": null,
   "metadata": {},
   "outputs": [],
   "source": [
    "# ! (cd './tcl' && $vmd -dispdev text -e water_within_protein.tcl -args $code $parameters > water_within_protein_log.out)"
   ]
  },
  {
   "cell_type": "code",
   "execution_count": null,
   "metadata": {},
   "outputs": [],
   "source": [
    "water_files1 = [results_folder+'namd/step7.'+str(i)+'_production.dcd-pbc.dcd-warter_count.txt' for i in range(1,prod_file_count+1)]\n",
    "water_within_prot = concatenate_water_per_frame(water_files1)\n",
    "\n",
    "fig_within_prot = plot_water_within(water_within_prot, title='Number of water within protein')"
   ]
  },
  {
   "cell_type": "code",
   "execution_count": null,
   "metadata": {},
   "outputs": [],
   "source": [
    "save_figure(fig_within_prot[0].figure, plot_folder+'water_within_protein')\n",
    "np.savetxt(plot_folder+'water_within_protein.txt', water_within_prot)"
   ]
  },
  {
   "cell_type": "markdown",
   "metadata": {},
   "source": [
    "#### water count near residue:"
   ]
  },
  {
   "cell_type": "code",
   "execution_count": null,
   "metadata": {},
   "outputs": [],
   "source": [
    "resid = '233'\n",
    "resname = 'TRP'\n",
    "distance = 3\n",
    "parameters =  '{} {} {}'.format(resid, resname, distance)\n",
    "print(parameters)"
   ]
  },
  {
   "cell_type": "code",
   "execution_count": null,
   "metadata": {},
   "outputs": [],
   "source": [
    "# ! (cd './tcl' && $vmd -dispdev text -e water_near_residue.tcl -args $code $parameters > water_near_residue_log.out)"
   ]
  },
  {
   "cell_type": "code",
   "execution_count": null,
   "metadata": {},
   "outputs": [],
   "source": [
    "water_files2 = [results_folder+'namd/step7.'+str(i)+'_production.dcd-pbc.dcd-warter_3_of_233TRP.txt' for i in range(1,prod_file_count+1)]\n",
    "water_near_233 = concatenate_water_per_frame(water_files2)\n",
    "fig_near_233 = plot_water_within(water_near_233, title='Number of water near W287')"
   ]
  },
  {
   "cell_type": "code",
   "execution_count": null,
   "metadata": {},
   "outputs": [],
   "source": [
    "save_figure(fig_near_233[0].figure, plot_folder+'water_near_W287')\n",
    "np.savetxt(plot_folder+'water_near_W287.txt', water_near_233)"
   ]
  },
  {
   "cell_type": "code",
   "execution_count": null,
   "metadata": {},
   "outputs": [],
   "source": [
    "resid = '84'\n",
    "resname = 'ASP'\n",
    "distance = 3\n",
    "parameters =  '{} {} {}'.format(resid, resname, distance)\n",
    "print(parameters)"
   ]
  },
  {
   "cell_type": "code",
   "execution_count": null,
   "metadata": {},
   "outputs": [],
   "source": [
    "! (cd './tcl' && $vmd -dispdev text -e water_near_residue.tcl -args $code $parameters > water_near_residue_log.out)"
   ]
  },
  {
   "cell_type": "code",
   "execution_count": null,
   "metadata": {},
   "outputs": [],
   "source": [
    "water_files3 = [results_folder+'namd/step7.'+str(i)+'_production.dcd-pbc.dcd-warter_3_of_84ASP.txt' for i in range(1,prod_file_count+1)]\n",
    "water_near_84 = concatenate_water_per_frame(water_files3)\n",
    "\n",
    "fig_near_84 = plot_water_within(water_near_84, title='Number of water near D138')"
   ]
  },
  {
   "cell_type": "code",
   "execution_count": null,
   "metadata": {},
   "outputs": [],
   "source": [
    "save_figure(fig_near_84[0].figure, plot_folder+'water_near_D138')\n",
    "np.savetxt(plot_folder+'water_near_D138.txt', water_near_84)"
   ]
  },
  {
   "cell_type": "markdown",
   "metadata": {},
   "source": [
    "#### water in binding pocket:"
   ]
  },
  {
   "cell_type": "code",
   "execution_count": null,
   "metadata": {},
   "outputs": [],
   "source": [
    "selection = {'(water within 3 of (resname THR and resid 55) or (resname ASP and resid 84) or (resname LYS and resid 173) or (resname TRP and resid 233) or (resname TYR and resid 266) or (resname GLY and resid 265)) and oxygen'}\n",
    "print(selection)"
   ]
  },
  {
   "cell_type": "code",
   "execution_count": null,
   "metadata": {},
   "outputs": [],
   "source": [
    "! (cd './tcl' && $vmd -dispdev text -e water_in_pocket.tcl -args $code $selection > water_in_pocket_log.out)"
   ]
  },
  {
   "cell_type": "code",
   "execution_count": null,
   "metadata": {},
   "outputs": [],
   "source": [
    "water_files4 = [results_folder+'namd/step7.'+str(i)+'_production.dcd-pbc.dcd-warter_in_pocket.txt' for i in range(1,prod_file_count+1)]\n",
    "water_pocket = concatenate_water_per_frame(water_files4)\n",
    "\n",
    "fig_water_pocket = plot_water_within(water_pocket, title='Number of water in the ligand binding pocket')"
   ]
  },
  {
   "cell_type": "code",
   "execution_count": null,
   "metadata": {},
   "outputs": [],
   "source": [
    "save_figure(fig_water_pocket[0].figure, plot_folder+'water_in_pocket')\n",
    "np.savetxt(plot_folder+'water_in_pocket.txt', water_pocket)"
   ]
  },
  {
   "cell_type": "code",
   "execution_count": null,
   "metadata": {},
   "outputs": [],
   "source": [
    "fig, ax = plt.subplots(figsize=(10,5))\n",
    "ax.plot(water_within_prot[:,1], linewidth=0.2, label='water within protein')\n",
    "ax.plot(water_near_233[:,1], linewidth=0.2, label='water near W287')\n",
    "ax.plot(water_near_84[:,1], linewidth=0.2, label='water near D138')\n",
    "ax.plot(water_pocket[:,1], linewidth=0.2, label='water in pocket')\n",
    "\n",
    "\n",
    "plt.ylabel('Number of water')\n",
    "plt.xlabel('Frame')\n",
    "plt.title('Number of water in near different parts of protein')\n",
    "\n",
    "legend = ax.legend(frameon=True)\n",
    "for legend_handle in legend.legendHandles:\n",
    "    legend_handle._legmarker.set_marker('s')"
   ]
  },
  {
   "cell_type": "code",
   "execution_count": null,
   "metadata": {},
   "outputs": [],
   "source": [
    "save_figure(fig, plot_folder+'water_number')"
   ]
  },
  {
   "cell_type": "code",
   "execution_count": null,
   "metadata": {},
   "outputs": [],
   "source": []
  },
  {
   "cell_type": "code",
   "execution_count": null,
   "metadata": {},
   "outputs": [],
   "source": []
  }
 ],
 "metadata": {
  "kernelspec": {
   "display_name": "Python 3",
   "language": "python",
   "name": "python3"
  },
  "language_info": {
   "codemirror_mode": {
    "name": "ipython",
    "version": 3
   },
   "file_extension": ".py",
   "mimetype": "text/x-python",
   "name": "python",
   "nbconvert_exporter": "python",
   "pygments_lexer": "ipython3",
   "version": "3.7.1"
  },
  "latex_envs": {
   "LaTeX_envs_menu_present": true,
   "autoclose": false,
   "autocomplete": true,
   "bibliofile": "biblio.bib",
   "cite_by": "apalike",
   "current_citInitial": 1,
   "eqLabelWithNumbers": true,
   "eqNumInitial": 1,
   "hotkeys": {
    "equation": "Ctrl-E",
    "itemize": "Ctrl-I"
   },
   "labels_anchors": false,
   "latex_user_defs": false,
   "report_style_numbering": false,
   "user_envs_cfg": false
  }
 },
 "nbformat": 4,
 "nbformat_minor": 2
}
