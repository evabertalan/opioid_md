{
 "cells": [
  {
   "cell_type": "code",
   "execution_count": 1,
   "metadata": {},
   "outputs": [],
   "source": [
    "import analyse\n",
    "import os\n",
    "import re\n",
    "import importlib\n",
    "import MDAnalysis as mda\n",
    "import MDAnalysis.analysis.rms as rms\n",
    "import MDAnalysis.analysis.hbonds\n",
    "import pandas as pd\n",
    "import matplotlib.pyplot as plt"
   ]
  },
  {
   "cell_type": "code",
   "execution_count": 2,
   "metadata": {},
   "outputs": [
    {
     "data": {
      "text/plain": [
       "<module 'analyse' from '/Volumes/ADATA HV620/rp/code/analyse.py'>"
      ]
     },
     "execution_count": 2,
     "metadata": {},
     "output_type": "execute_result"
    }
   ],
   "source": [
    "importlib.reload(analyse)"
   ]
  },
  {
   "cell_type": "code",
   "execution_count": 3,
   "metadata": {},
   "outputs": [],
   "source": [
    "def save_figure(fig, target):\n",
    "    fig.savefig(target)"
   ]
  },
  {
   "cell_type": "code",
   "execution_count": 4,
   "metadata": {
    "collapsed": true
   },
   "outputs": [],
   "source": [
    "PDB_CODE = '6b73'\n",
    "SEQ = 'B'\n",
    "folder = '../'+PDB_CODE+SEQ+'/'\n",
    "results_folder = folder+'results/'\n",
    "plot_folder = results_folder+'plots/'"
   ]
  },
  {
   "cell_type": "code",
   "execution_count": 5,
   "metadata": {},
   "outputs": [],
   "source": [
    "dcd_files = sorted([results_folder+'namd/'+i for i in os.listdir(results_folder+'namd/') if re.match(r'(step7.).*\\_production.dcd$', i)])"
   ]
  },
  {
   "cell_type": "code",
   "execution_count": 6,
   "metadata": {},
   "outputs": [
    {
     "name": "stdout",
     "output_type": "stream",
     "text": [
      "['../6b73B/results/namd/step7.10_production.dcd', '../6b73B/results/namd/step7.11_production.dcd', '../6b73B/results/namd/step7.12_production.dcd', '../6b73B/results/namd/step7.1_production.dcd', '../6b73B/results/namd/step7.2_production.dcd', '../6b73B/results/namd/step7.3_production.dcd', '../6b73B/results/namd/step7.4_production.dcd', '../6b73B/results/namd/step7.5_production.dcd', '../6b73B/results/namd/step7.6_production.dcd', '../6b73B/results/namd/step7.7_production.dcd', '../6b73B/results/namd/step7.8_production.dcd', '../6b73B/results/namd/step7.9_production.dcd']\n"
     ]
    }
   ],
   "source": [
    "print(dcd_files)"
   ]
  },
  {
   "cell_type": "code",
   "execution_count": 7,
   "metadata": {},
   "outputs": [
    {
     "name": "stderr",
     "output_type": "stream",
     "text": [
      "/Users/evabertalan/miniconda3/lib/python3.6/site-packages/MDAnalysis/topology/PDBParser.py:272: UserWarning: Serial numbers went over 100,000.  Higher serials have been guessed\n",
      "  warnings.warn(\"Serial numbers went over 100,000.  \"\n",
      "/Users/evabertalan/miniconda3/lib/python3.6/site-packages/MDAnalysis/topology/PDBParser.py:349: UserWarning: Invalid atom serials were present, bonds will not be parsed\n",
      "  warnings.warn(\"Invalid atom serials were present, bonds will not\"\n",
      "/Users/evabertalan/miniconda3/lib/python3.6/site-packages/MDAnalysis/topology/PDBParser.py:187: UserWarning: Invalid atom serials were present, bonds will not be parsed\n",
      "  warnings.warn(\"Invalid atom serials were present, \"\n"
     ]
    }
   ],
   "source": [
    "trajectory =  mda.Universe(results_folder+'step5_assembly.xplor_ext.psf', dcd_files)\n",
    "# ref = mda.Universe(folder+PDB_CODE+'_inp.pdb')\n",
    "ref = mda.Universe(results_folder+'step5_assembly.namd.pdb')"
   ]
  },
  {
   "cell_type": "code",
   "execution_count": null,
   "metadata": {},
   "outputs": [],
   "source": [
    "title = 'RMSD of C-alpha atoms over production steps'\n",
    "R, r_fig = analyse.rmsd_traj(trajectory, ref, title)"
   ]
  },
  {
   "cell_type": "code",
   "execution_count": null,
   "metadata": {},
   "outputs": [],
   "source": [
    "save_figure(r_fig[0].figure, plot_folder+'prod_rmsd')"
   ]
  },
  {
   "cell_type": "code",
   "execution_count": null,
   "metadata": {},
   "outputs": [],
   "source": [
    "pdb_file = folder+PDB_CODE+'_inp.pdb'\n",
    "struct = analyse.secondary_structure(pdb_file, PDB_CODE)"
   ]
  },
  {
   "cell_type": "code",
   "execution_count": null,
   "metadata": {},
   "outputs": [],
   "source": [
    "rmsf_fig = analyse.rmsf_plot([trajectory], title='RMSF of residues over prodeuction step', structure=struct)"
   ]
  },
  {
   "cell_type": "code",
   "execution_count": null,
   "metadata": {},
   "outputs": [],
   "source": [
    "save_figure(rmsf_fig, plot_folder+'prod_rmsf')"
   ]
  },
  {
   "cell_type": "code",
   "execution_count": null,
   "metadata": {},
   "outputs": [],
   "source": [
    "protein = ref.select_atoms('protein')\n",
    "print(protein.residues.resnames)"
   ]
  },
  {
   "cell_type": "code",
   "execution_count": null,
   "metadata": {},
   "outputs": [],
   "source": [
    "d = {'resId': protein.residues.resids, 'resName': protein.residues.resnames}\n",
    "df = pd.DataFrame(data=d)\n",
    "# print(df)"
   ]
  },
  {
   "cell_type": "code",
   "execution_count": null,
   "metadata": {},
   "outputs": [],
   "source": [
    "trp = ref.select_atoms('resid 233')\n",
    "print(trp.residues)"
   ]
  },
  {
   "cell_type": "code",
   "execution_count": null,
   "metadata": {},
   "outputs": [],
   "source": [
    "r = rms.RMSD(trajectory.select_atoms('name CA'),\n",
    "             ref.select_atoms('name CA'), \n",
    "             select='name CA', \n",
    "             groupselections=['resname TRP and name CA and resid 233', 'resname SER and name CA']).run()"
   ]
  },
  {
   "cell_type": "code",
   "execution_count": null,
   "metadata": {},
   "outputs": [],
   "source": [
    "R = r.rmsd.T\n",
    "print(R)\n",
    "frame = R[0]\n",
    "time = R[1]\n",
    "plt.subplots(figsize=(10,5))\n",
    "plt.plot(time, R[2], linewidth=0.2)\n",
    "plt.plot(time, R[3], linewidth=0.2)\n",
    "plt.plot(time, R[4], linewidth=0.2)\n",
    "plt.show()"
   ]
  },
  {
   "cell_type": "code",
   "execution_count": null,
   "metadata": {},
   "outputs": [],
   "source": [
    "print(ref.select_atoms('resid 233 and name CA')) "
   ]
  },
  {
   "cell_type": "markdown",
   "metadata": {},
   "source": [
    "## RMSF of the loops:"
   ]
  },
  {
   "cell_type": "code",
   "execution_count": null,
   "metadata": {},
   "outputs": [],
   "source": [
    "print(struct['helix'])"
   ]
  },
  {
   "cell_type": "code",
   "execution_count": null,
   "metadata": {},
   "outputs": [],
   "source": [
    "r = rms.RMSD(trajectory.select_atoms('name CA'),\n",
    "             ref.select_atoms('name CA'), \n",
    "             select='name CA', \n",
    "             groupselections=['name CA and resid 3-32',\n",
    "                              'name CA and resid 39-67',\n",
    "                              'name CA and resid 73-105', \n",
    "                              'name CA and resid 116-142',\n",
    "                              'name CA and resid 165-205',\n",
    "                              'name CA and resid 213-245',\n",
    "                              'name CA and resid 255-279']).run()"
   ]
  },
  {
   "cell_type": "code",
   "execution_count": null,
   "metadata": {},
   "outputs": [],
   "source": [
    "R = r.rmsd.T\n",
    "frame = R[0]\n",
    "time = R[1]\n",
    "fig, ax = plt.subplots(1, figsize=(18,5))\n",
    "ax.plot(time, R[2], linewidth=0.5, label='1 TM')\n",
    "ax.plot(time, R[3], linewidth=0.5, label='2 TM')\n",
    "ax.plot(time, R[4], linewidth=0.5, label='3 TM')\n",
    "ax.plot(time, R[5], linewidth=0.5, label='4 TM')\n",
    "ax.plot(time, R[6], linewidth=0.5, label='5 TM')\n",
    "ax.plot(time, R[7], linewidth=0.5, label='6 TM')\n",
    "ax.plot(time, R[8], linewidth=0.5, label='7 TM')\n",
    "ax.legend()\n",
    "plt.show()"
   ]
  },
  {
   "cell_type": "code",
   "execution_count": null,
   "metadata": {},
   "outputs": [],
   "source": [
    "save_figure(fig, plot_folder+'helix_rmsd')"
   ]
  },
  {
   "cell_type": "markdown",
   "metadata": {},
   "source": [
    "### RMSD of important residues"
   ]
  },
  {
   "cell_type": "code",
   "execution_count": null,
   "metadata": {},
   "outputs": [],
   "source": [
    "r = rms.RMSD(trajectory.select_atoms('name CA'),\n",
    "             ref.select_atoms('name CA'), \n",
    "             select='name CA', \n",
    "             groupselections=['name CA and resid 84',\n",
    "                              'name CA and resid 156',\n",
    "                              'name CA and resid 173', \n",
    "                              'name CA and resid 233']).run()"
   ]
  },
  {
   "cell_type": "code",
   "execution_count": null,
   "metadata": {},
   "outputs": [],
   "source": [
    "R = r.rmsd.T\n",
    "frame = R[0]\n",
    "time = R[1]\n",
    "fig, ax = plt.subplots(1, figsize=(18,5))\n",
    "ax.plot(time, R[2], linewidth=0.5, label='D138')\n",
    "ax.plot(time, R[3], linewidth=0.5, label='C210')\n",
    "ax.plot(time, R[4], linewidth=0.5, label='K227')\n",
    "ax.plot(time, R[5], linewidth=0.5, label='W287')\n",
    "ax.legend()\n",
    "plt.show()"
   ]
  },
  {
   "cell_type": "code",
   "execution_count": null,
   "metadata": {},
   "outputs": [],
   "source": [
    "save_figure(fig, plot_folder+'residue_rmsd')"
   ]
  },
  {
   "cell_type": "markdown",
   "metadata": {},
   "source": [
    "### RMSF of helixes:"
   ]
  },
  {
   "cell_type": "code",
   "execution_count": null,
   "metadata": {},
   "outputs": [],
   "source": []
  },
  {
   "cell_type": "code",
   "execution_count": null,
   "metadata": {},
   "outputs": [],
   "source": [
    "h_prot = mda.analysis.hbonds.HydrogenBondAnalysis(trajectory, selection1='protein',\n",
    "                                                  selection2='protein',\n",
    "                                             selection1_type='both',\n",
    "                                             distance=3.0)\n",
    "h_prot.run()"
   ]
  },
  {
   "cell_type": "code",
   "execution_count": null,
   "metadata": {},
   "outputs": [],
   "source": [
    "h_prot.generate_table()\n",
    "df = pd.DataFrame.from_records(h_prot.table)\n",
    "df.hist(column=[\"distance\"])\n",
    "print(df)"
   ]
  },
  {
   "cell_type": "code",
   "execution_count": null,
   "metadata": {},
   "outputs": [],
   "source": [
    "plt.subplots(figsize=(20,20))\n",
    "bob = plt.hist2d(h_prot.table['donor_resid'], h_prot.table['acceptor_resid'], bins=280)"
   ]
  },
  {
   "cell_type": "code",
   "execution_count": null,
   "metadata": {},
   "outputs": [],
   "source": [
    "inter_hbond = by_t_df.loc[(by_t_df['frequency'] > 1.5) & (by_t_df['donor_resid'] != by_t_df['acceptor_resid'])]\n",
    "print(inter_hbond)"
   ]
  },
  {
   "cell_type": "code",
   "execution_count": null,
   "metadata": {},
   "outputs": [],
   "source": []
  }
 ],
 "metadata": {
  "kernelspec": {
   "display_name": "Python 3",
   "language": "python",
   "name": "python3"
  },
  "language_info": {
   "codemirror_mode": {
    "name": "ipython",
    "version": 3
   },
   "file_extension": ".py",
   "mimetype": "text/x-python",
   "name": "python",
   "nbconvert_exporter": "python",
   "pygments_lexer": "ipython3",
   "version": "3.6.8"
  },
  "latex_envs": {
   "LaTeX_envs_menu_present": true,
   "autoclose": false,
   "autocomplete": true,
   "bibliofile": "biblio.bib",
   "cite_by": "apalike",
   "current_citInitial": 1,
   "eqLabelWithNumbers": true,
   "eqNumInitial": 1,
   "hotkeys": {
    "equation": "Ctrl-E",
    "itemize": "Ctrl-I"
   },
   "labels_anchors": false,
   "latex_user_defs": false,
   "report_style_numbering": false,
   "user_envs_cfg": false
  }
 },
 "nbformat": 4,
 "nbformat_minor": 2
}
