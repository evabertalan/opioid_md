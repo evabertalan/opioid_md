{
 "cells": [
  {
   "cell_type": "code",
   "execution_count": 10,
   "metadata": {},
   "outputs": [
    {
     "name": "stdout",
     "output_type": "stream",
     "text": [
      "The autoreload extension is already loaded. To reload it, use:\n",
      "  %reload_ext autoreload\n"
     ]
    }
   ],
   "source": [
    "import matplotlib.pyplot as plt\n",
    "%load_ext autoreload\n",
    "%autoreload 2\n",
    "%matplotlib inline"
   ]
  },
  {
   "cell_type": "code",
   "execution_count": 2,
   "metadata": {},
   "outputs": [],
   "source": [
    "from mdhbond import HbondAnalysis\n",
    "from mdhbond import WireAnalysis\n",
    "#from mdhbond import ExplicitWireAnalysis\n",
    "#psf = '/net/grouphome/ag-bondar/Michail/for-Buzar-Karatanou/Michalis_test_case/read_protein_mb_9_e162u_3x.psf'\n",
    "#dcd = '/net/grouphome/ag-bondar/Michail/for-Buzar-Karatanou/Michalis_test_case/chr_e162unp_n25_to_n28_PBC.dcd'"
   ]
  },
  {
   "cell_type": "code",
   "execution_count": 3,
   "metadata": {},
   "outputs": [],
   "source": [
    "PDB_CODE = '6b73'\n",
    "SEQ = 'B'\n",
    "folder = '../'+PDB_CODE+SEQ+'/'\n",
    "results_folder = folder+'results/'\n",
    "plot_folder = folder+'plots/'"
   ]
  },
  {
   "cell_type": "code",
   "execution_count": 4,
   "metadata": {},
   "outputs": [],
   "source": [
    "psf = results_folder+'step5_assembly.xplor_ext.psf'\n",
    "dcd = results_folder+'namd/6b73_pbc4.dcd'"
   ]
  },
  {
   "cell_type": "code",
   "execution_count": 5,
   "metadata": {},
   "outputs": [],
   "source": [
    "hba = HbondAnalysis('protein', psf , dcd , residuewise=False, additional_acceptors=['O'] , additional_donors=['N'])"
   ]
  },
  {
   "cell_type": "code",
   "execution_count": 6,
   "metadata": {},
   "outputs": [],
   "source": [
    "hba.set_hbonds_in_selection(exclude_backbone_backbone=False)\n",
    "#print(hba.current_results)\n",
    "#hba.draw_graph(filename= 'chr_test_case_bonds_default2.png')"
   ]
  },
  {
   "cell_type": "code",
   "execution_count": 7,
   "metadata": {},
   "outputs": [
    {
     "name": "stdout",
     "output_type": "stream",
     "text": [
      "PROA-PRO-5-O:PROA-THR-9-OG1.................. | class 1 | 99.7\n",
      "PROA-LEU-20-O:PROA-SER-24-OG................. | class 1 | 99.4\n",
      "PROA-ASP-51-O:PROA-THR-55-OG1................ | class 1 | 54.8\n",
      "PROA-ALA-52-O:PROA-THR-56-OG1................ | class 1 | 49.5\n",
      "PROA-VAL-54-O:PROA-THR-57-OG1................ | class 1 | 73.5\n",
      "PROA-PRO-59-O:PROA-THR-63-OG1................ | class 1 | 99.0\n",
      "PROA-TYR-86-O:PROA-THR-90-OG1................ | class 1 | 6.7\n",
      "PROA-ILE-92-O:PROA-THR-96-OG1................ | class 1 | 99.9\n",
      "PROA-TRP-129-O:PROA-SER-133-OG............... | class 1 | 100.0\n",
      "PROA-LEU-131-O:PROA-SER-134-OG............... | class 1 | 99.7\n",
      "PROA-ILE-189-O:PROA-THR-193-OG1.............. | class 1 | 99.9\n",
      "PROA-LEU-215-O:PROA-THR-219-OG1.............. | class 1 | 99.8\n",
      "PROA-VAL-230-O:PROA-THR-234-OG1.............. | class 1 | 100.0\n",
      "PROA-GLU-243-OE2:PROA-THR-248-N.............. | class 1 | 78.5\n",
      "PROA-ALA-253-O:PROA-SER-257-OG............... | class 1 | 99.7\n",
      "PROA-ALA-263-O:PROA-THR-267-OG1.............. | class 1 | 99.8\n",
      "PROA-ASP-114-O:PROA-THR-117-OG1.............. | class 1 | 38.0\n",
      "PROA-ARG-203-O:PROA-SER-206-OG............... | class 1 | 1.7\n",
      "PROA-GLU-243-OE1:PROA-THR-248-N.............. | class 1 | 14.3\n",
      "PROA-PHE-60-O:PROA-THR-63-OG1................ | class 1 | 0.2\n",
      "PROA-LEU-264-O:PROA-THR-267-OG1.............. | class 1 | 0.3\n",
      "PROA-TYR-266-O:PROA-SER-270-OG............... | class 1 | 17.9\n",
      "PROA-LEU-53-O:PROA-THR-57-OG1................ | class 1 | 13.4\n",
      "PROA-ALA-52-O:PROA-THR-55-OG1................ | class 1 | 45.6\n",
      "PROA-ASP-163-O:PROA-SER-166-OG............... | class 1 | 0.3\n",
      "PROA-LEU-130-O:PROA-SER-133-OG............... | class 1 | 0.3\n",
      "PROA-ILE-128-O:PROA-SER-132-OG............... | class 1 | 2.7\n",
      "PROA-ILE-30-O:PROA-THR-34-OG1................ | class 1 | 1.6\n",
      "PROA-GLU-243-O:PROA-SER-247-OG............... | class 1 | 0.2\n",
      "PROA-MET-58-O:PROA-SER-62-OG................. | class 1 | 0.5\n",
      "PROA-ALA-253-O:PROA-SER-256-OG............... | class 1 | 0.1\n",
      "PROA-LEU-113-O:PROA-THR-117-OG1.............. | class 1 | 1.6\n",
      "PROA-LEU-197-O:PROA-SER-201-OG............... | class 1 | 18.6\n",
      "PROA-ARG-198-O:PROA-SER-201-OG............... | class 1 | 8.8\n",
      "PROA-LEU-53-O:PROA-THR-56-OG1................ | class 1 | 49.9\n",
      "PROA-LEU-95-O:PROA-SER-99-OG................. | class 1 | 3.9\n",
      "PROA-ASP-51-OD2:PROA-SER-91-OG............... | class 2 | 59.7\n",
      "PROA-ASP-51-OD2:PROA-SER-269-OG.............. | class 2 | 90.1\n",
      "PROA-ASP-74-OD1:PROA-THR-145-OG1............. | class 2 | 44.6\n",
      "PROA-ASP-74-OD2:PROA-THR-145-OG1............. | class 2 | 59.9\n",
      "PROA-GLU-243-OE1:PROA-SER-247-OG............. | class 2 | 32.8\n",
      "PROA-GLU-243-OE2:PROA-SER-247-OG............. | class 2 | 30.1\n",
      "PROA-GLU-243-OE2:PROA-THR-248-OG1............ | class 2 | 77.6\n",
      "PROA-ASP-51-OD1:PROA-SER-91-OG............... | class 2 | 84.7\n",
      "PROA-ASP-51-OD1:PROA-SER-269-OG.............. | class 2 | 11.6\n",
      "PROA-GLU-243-OE1:PROA-THR-248-OG1............ | class 2 | 8.8\n",
      "PROA-SER-206-OG:PROA-GLU-210-OE2............. | class 2 | 3.7\n",
      "PROA-SER-206-OG:PROA-GLU-210-OE1............. | class 2 | 3.6\n",
      "PROA-GLU-155-OE1:PROA-SER-157-OG............. | class 2 | 0.5\n",
      "PROA-THR-57-OG1:PROA-ASP-84-OD2.............. | class 2 | 0.1\n",
      "PROA-THR-57-OG1:PROA-ASP-84-OD1.............. | class 2 | 0.3\n",
      "PROA-GLU-155-OE2:PROA-SER-157-OG............. | class 2 | 2.9\n",
      "\n",
      "\n"
     ]
    },
    {
     "data": {
      "text/plain": [
       "({'PROA-PRO-5-O:PROA-THR-9-OG1': 1,\n",
       "  'PROA-LEU-20-O:PROA-SER-24-OG': 1,\n",
       "  'PROA-ASP-51-OD2:PROA-SER-91-OG': 2,\n",
       "  'PROA-ASP-51-OD2:PROA-SER-269-OG': 2,\n",
       "  'PROA-ASP-51-O:PROA-THR-55-OG1': 1,\n",
       "  'PROA-ALA-52-O:PROA-THR-56-OG1': 1,\n",
       "  'PROA-VAL-54-O:PROA-THR-57-OG1': 1,\n",
       "  'PROA-PRO-59-O:PROA-THR-63-OG1': 1,\n",
       "  'PROA-ASP-74-OD1:PROA-THR-145-OG1': 2,\n",
       "  'PROA-ASP-74-OD2:PROA-THR-145-OG1': 2,\n",
       "  'PROA-TYR-86-O:PROA-THR-90-OG1': 1,\n",
       "  'PROA-ILE-92-O:PROA-THR-96-OG1': 1,\n",
       "  'PROA-TRP-129-O:PROA-SER-133-OG': 1,\n",
       "  'PROA-LEU-131-O:PROA-SER-134-OG': 1,\n",
       "  'PROA-ILE-189-O:PROA-THR-193-OG1': 1,\n",
       "  'PROA-LEU-215-O:PROA-THR-219-OG1': 1,\n",
       "  'PROA-VAL-230-O:PROA-THR-234-OG1': 1,\n",
       "  'PROA-GLU-243-OE1:PROA-SER-247-OG': 2,\n",
       "  'PROA-GLU-243-OE2:PROA-SER-247-OG': 2,\n",
       "  'PROA-GLU-243-OE2:PROA-THR-248-N': 1,\n",
       "  'PROA-GLU-243-OE2:PROA-THR-248-OG1': 2,\n",
       "  'PROA-ALA-253-O:PROA-SER-257-OG': 1,\n",
       "  'PROA-ALA-263-O:PROA-THR-267-OG1': 1,\n",
       "  'PROA-ASP-51-OD1:PROA-SER-91-OG': 2,\n",
       "  'PROA-ASP-114-O:PROA-THR-117-OG1': 1,\n",
       "  'PROA-ARG-203-O:PROA-SER-206-OG': 1,\n",
       "  'PROA-GLU-243-OE1:PROA-THR-248-N': 1,\n",
       "  'PROA-PHE-60-O:PROA-THR-63-OG1': 1,\n",
       "  'PROA-LEU-264-O:PROA-THR-267-OG1': 1,\n",
       "  'PROA-TYR-266-O:PROA-SER-270-OG': 1,\n",
       "  'PROA-ASP-51-OD1:PROA-SER-269-OG': 2,\n",
       "  'PROA-LEU-53-O:PROA-THR-57-OG1': 1,\n",
       "  'PROA-ALA-52-O:PROA-THR-55-OG1': 1,\n",
       "  'PROA-ASP-163-O:PROA-SER-166-OG': 1,\n",
       "  'PROA-LEU-130-O:PROA-SER-133-OG': 1,\n",
       "  'PROA-ILE-128-O:PROA-SER-132-OG': 1,\n",
       "  'PROA-GLU-243-OE1:PROA-THR-248-OG1': 2,\n",
       "  'PROA-SER-206-OG:PROA-GLU-210-OE2': 2,\n",
       "  'PROA-SER-206-OG:PROA-GLU-210-OE1': 2,\n",
       "  'PROA-ILE-30-O:PROA-THR-34-OG1': 1,\n",
       "  'PROA-GLU-243-O:PROA-SER-247-OG': 1,\n",
       "  'PROA-MET-58-O:PROA-SER-62-OG': 1,\n",
       "  'PROA-ALA-253-O:PROA-SER-256-OG': 1,\n",
       "  'PROA-LEU-113-O:PROA-THR-117-OG1': 1,\n",
       "  'PROA-LEU-197-O:PROA-SER-201-OG': 1,\n",
       "  'PROA-ARG-198-O:PROA-SER-201-OG': 1,\n",
       "  'PROA-LEU-53-O:PROA-THR-56-OG1': 1,\n",
       "  'PROA-LEU-95-O:PROA-SER-99-OG': 1,\n",
       "  'PROA-GLU-155-OE1:PROA-SER-157-OG': 2,\n",
       "  'PROA-THR-57-OG1:PROA-ASP-84-OD2': 2,\n",
       "  'PROA-THR-57-OG1:PROA-ASP-84-OD1': 2,\n",
       "  'PROA-GLU-155-OE2:PROA-SER-157-OG': 2},\n",
       " {})"
      ]
     },
     "execution_count": 7,
     "metadata": {},
     "output_type": "execute_result"
    }
   ],
   "source": [
    "hba.compute_i4_bonds()"
   ]
  },
  {
   "cell_type": "code",
   "execution_count": 11,
   "metadata": {},
   "outputs": [
    {
     "data": {
      "image/png": "[encoded data removed]",
      "text/plain": [
       "<Figure size 432x288 with 1 Axes>"
      ]
     },
     "metadata": {
      "needs_background": "light"
     },
     "output_type": "display_data"
    }
   ],
   "source": [
    "hba.draw_occupancy_histogram(0.1, 0.1 )"
   ]
  },
  {
   "cell_type": "code",
   "execution_count": 11,
   "metadata": {},
   "outputs": [],
   "source": [
    "#hba.filter_occupancy(0.999, use_filtered=False)\n",
    "#hba.draw_graph(use_filtered=False , filename= 'hba_graph.png')"
   ]
  },
  {
   "cell_type": "code",
   "execution_count": 12,
   "metadata": {},
   "outputs": [],
   "source": [
    "#hba.filter_occupancy(0.999, use_filtered=False)\n",
    "#graph1 = hba.draw_graph(use_filtered=False ,color_dict={'3UG9': 'blue' , 'MON2':'orange'}, filename= 'chr_test_case_bonds_color_by_segment2.png')"
   ]
  },
  {
   "cell_type": "code",
   "execution_count": 13,
   "metadata": {},
   "outputs": [],
   "source": [
    "hba.filter_occupancy(0.5)\n",
    "hba.draw_graph(color_dict={'6b73': 'red'}, filename='first_graph.png')"
   ]
  },
  {
   "cell_type": "code",
   "execution_count": 14,
   "metadata": {},
   "outputs": [],
   "source": [
    "hba.filter_connected_component('PROA-ASP-84-N', use_filtered=False)\n",
    "hba.draw_graph(filename='boby.png')"
   ]
  },
  {
   "cell_type": "code",
   "execution_count": 15,
   "metadata": {},
   "outputs": [
    {
     "data": {
      "image/png": "[encoded data removed]",
      "text/plain": [
       "<Figure size 432x288 with 1 Axes>"
      ]
     },
     "metadata": {
      "needs_background": "light"
     },
     "output_type": "display_data"
    }
   ],
   "source": [
    "hba.draw_sum_of_connections_timeseries()"
   ]
  },
  {
   "cell_type": "code",
   "execution_count": 16,
   "metadata": {},
   "outputs": [
    {
     "data": {
      "image/png": "[encoded data removed]",
      "text/plain": [
       "<Figure size 432x288 with 2 Axes>"
      ]
     },
     "metadata": {
      "needs_background": "light"
     },
     "output_type": "display_data"
    }
   ],
   "source": [
    "hba.draw_residue_residue_heatmap()"
   ]
  },
  {
   "cell_type": "code",
   "execution_count": 17,
   "metadata": {},
   "outputs": [],
   "source": [
    "# hba.filter_all_paths('3UG9-LYR-248', '3UG9-GLU-81', use_filtered=False)\n",
    "# hba.draw_graph(filename='all_paths_LYR_GLU81.png')\n",
    "# hba.compute_combined_occupancy()\n",
    "# #This function will show the path connecting root and end node"
   ]
  },
  {
   "cell_type": "code",
   "execution_count": 18,
   "metadata": {},
   "outputs": [],
   "source": [
    "# hba.filter_single_path('3UG9-LYR-248' ,'3UG9-GLU-114', '3UG9-LYS-84', '3UG9-GLU-81', use_filtered=False)\n",
    "# hba.draw_graph(filename='all_paths_LYR_GLU114_LYS84_GLU81.png')\n",
    "# hba.compute_combined_occupancy()\n",
    "# #This function will show the path connecting the nodes that you inserted expicitely."
   ]
  },
  {
   "cell_type": "code",
   "execution_count": null,
   "metadata": {},
   "outputs": [],
   "source": [
    "hba.set_hbonds_in_selection_and_water_around(3*3.5)"
   ]
  },
  {
   "cell_type": "code",
   "execution_count": null,
   "metadata": {},
   "outputs": [],
   "source": [
    "hba.filter_occupancy(0.1)\n",
    "hba.draw_graph(use_filtered=True)"
   ]
  },
  {
   "cell_type": "code",
   "execution_count": null,
   "metadata": {},
   "outputs": [],
   "source": [
    "def writeToFile(data, filename):\n",
    "    with open(filename , \"w\") as f:\n",
    "        for key in data:\n",
    "            f.write(\"{} {}\\n\".format(key,(data[key]),))\n",
    "\n",
    "import numpy as _np\n",
    "def average_timeseries(hbond_dict):\n",
    "    return {key:_np.mean(hbond_dict[key]) for key in hbond_dict} "
   ]
  },
  {
   "cell_type": "code",
   "execution_count": null,
   "metadata": {
    "scrolled": true
   },
   "outputs": [],
   "source": [
    "avg = average_timeseries(hba.filtered_results)\n",
    "print(avg)\n",
    "writeToFile(avg, 'chr_e162unp_bonds_3HS_04.dat')"
   ]
  },
  {
   "cell_type": "code",
   "execution_count": null,
   "metadata": {},
   "outputs": [],
   "source": [
    "%timeit hba.filter_water_in_hydration_shells(3, use_filtered=False)"
   ]
  },
  {
   "cell_type": "code",
   "execution_count": null,
   "metadata": {},
   "outputs": [],
   "source": [
    "res_times = hba.compute_mean_residence_time(use_filtered=False)"
   ]
  },
  {
   "cell_type": "code",
   "execution_count": null,
   "metadata": {},
   "outputs": [],
   "source": [
    "print(res_times)"
   ]
  },
  {
   "cell_type": "code",
   "execution_count": null,
   "metadata": {},
   "outputs": [],
   "source": [
    "hba.draw_hydration_shell_occupancy_histogram(0.1, 0.1)"
   ]
  },
  {
   "cell_type": "code",
   "execution_count": 17,
   "metadata": {},
   "outputs": [],
   "source": [
    "wa = WireAnalysis('protein', psf , dcd)"
   ]
  },
  {
   "cell_type": "code",
   "execution_count": 18,
   "metadata": {},
   "outputs": [],
   "source": [
    "wa.set_water_wires(max_water=5)"
   ]
  },
  {
   "cell_type": "code",
   "execution_count": 19,
   "metadata": {},
   "outputs": [],
   "source": [
    "av_per_wire = wa.compute_average_water_per_wire()"
   ]
  },
  {
   "cell_type": "code",
   "execution_count": 21,
   "metadata": {},
   "outputs": [],
   "source": [
    "# print(av_per_wire)"
   ]
  },
  {
   "cell_type": "code",
   "execution_count": 22,
   "metadata": {},
   "outputs": [],
   "source": [
    "projection = wa.compute_wire_projection()"
   ]
  },
  {
   "cell_type": "code",
   "execution_count": 23,
   "metadata": {},
   "outputs": [
    {
     "name": "stderr",
     "output_type": "stream",
     "text": [
      "IOPub data rate exceeded.\n",
      "The notebook server will temporarily stop sending output\n",
      "to the client in order to avoid crashing it.\n",
      "To change this limit, set the config variable\n",
      "`--NotebookApp.iopub_data_rate_limit`.\n",
      "\n",
      "Current values:\n",
      "NotebookApp.iopub_data_rate_limit=1000000.0 (bytes/sec)\n",
      "NotebookApp.rate_limit_window=3.0 (secs)\n",
      "\n"
     ]
    }
   ],
   "source": [
    "print(projection)"
   ]
  },
  {
   "cell_type": "code",
   "execution_count": null,
   "metadata": {},
   "outputs": [],
   "source": [
    "def writeToFile(data, filename):\n",
    "    with open(filename , \"w\") as f:\n",
    "        for key in data:\n",
    "            f.write(\"{} {}\\n\".format(key,(data[key]),))\n",
    "\n",
    "import numpy as _np\n",
    "def average_timeseries(hbond_dict):\n",
    "    return {key:_np.mean(hbond_dict[key]) for key in hbond_dict}        "
   ]
  },
  {
   "cell_type": "code",
   "execution_count": 24,
   "metadata": {
    "scrolled": true
   },
   "outputs": [],
   "source": [
    "datas=wa.compute_average_water_per_wire()\n",
    "# print (datas)"
   ]
  },
  {
   "cell_type": "code",
   "execution_count": null,
   "metadata": {},
   "outputs": [],
   "source": [
    "writeToFile(datas, 'average_water_per_wire.dat')"
   ]
  },
  {
   "cell_type": "code",
   "execution_count": 25,
   "metadata": {},
   "outputs": [],
   "source": [
    "wa.filter_occupancy(0.1, use_filtered=False)\n",
    "wa.draw_graph(filename='chr_wires_default2.png')"
   ]
  },
  {
   "cell_type": "code",
   "execution_count": null,
   "metadata": {},
   "outputs": [],
   "source": [
    "import numpy as _np\n",
    "def average_timeseries(hbond_dict):\n",
    "    return {key:_np.mean(hbond_dict[key]) for key in hbond_dict}\n",
    "\n",
    "avg = average_timeseries(wa.filtered_results)\n",
    "print (avg)\n",
    "\n",
    "def writeToFile(data, filename):\n",
    "    with open(filename , \"w\") as f:\n",
    "        for key in data:\n",
    "            f.write(\"{} {}\\n\".format(key,(data[key]),))\n",
    "            \n",
    "            \n",
    "writeToFile(avg , 'chr_e162unp_wires_01.dat')      "
   ]
  },
  {
   "cell_type": "code",
   "execution_count": null,
   "metadata": {},
   "outputs": [],
   "source": [
    "wa.compute_combined_occupancy()"
   ]
  },
  {
   "cell_type": "code",
   "execution_count": null,
   "metadata": {},
   "outputs": [],
   "source": [
    "wa.filter_connected_component('MON2-LYR-248', use_filtered=False)\n",
    "wa.draw_graph(color_dict={'3UG9' : 'blue', 'MON2' : 'orange'})"
   ]
  },
  {
   "cell_type": "code",
   "execution_count": null,
   "metadata": {},
   "outputs": [],
   "source": [
    "wa.compute_combined_occupancy(wa.)"
   ]
  },
  {
   "cell_type": "code",
   "execution_count": null,
   "metadata": {
    "scrolled": true
   },
   "outputs": [],
   "source": [
    "wa.filter_all_paths('MON2-LYR-248', 'MON2-LYS-84', only_shortest=False ,use_filtered=False)\n",
    "wa.draw_graph(filename='wires_all_paths__MON2_LYR_GLU88.png')\n",
    "wa.compute_combined_occupancy()"
   ]
  },
  {
   "cell_type": "code",
   "execution_count": null,
   "metadata": {},
   "outputs": [],
   "source": [
    "wa.compute_combined_occupancy()"
   ]
  },
  {
   "cell_type": "code",
   "execution_count": null,
   "metadata": {},
   "outputs": [],
   "source": [
    "ewa = ExplicitWireAnalysis(psf, dcd, 'protein or resname LYR')"
   ]
  },
  {
   "cell_type": "code",
   "execution_count": null,
   "metadata": {},
   "outputs": [],
   "source": [
    "ewa.set_explicit_water_wires(5)"
   ]
  },
  {
   "cell_type": "code",
   "execution_count": null,
   "metadata": {},
   "outputs": [],
   "source": [
    "ewa.filter_occupancy(0.1, use_filtered=False)"
   ]
  },
  {
   "cell_type": "code",
   "execution_count": null,
   "metadata": {},
   "outputs": [],
   "source": [
    "ewa.draw_graph(filename='expicit_wires_01.png')"
   ]
  },
  {
   "cell_type": "code",
   "execution_count": null,
   "metadata": {},
   "outputs": [],
   "source": []
  }
 ],
 "metadata": {
  "kernelspec": {
   "display_name": "Python 3",
   "language": "python",
   "name": "python3"
  },
  "language_info": {
   "codemirror_mode": {
    "name": "ipython",
    "version": 3
   },
   "file_extension": ".py",
   "mimetype": "text/x-python",
   "name": "python",
   "nbconvert_exporter": "python",
   "pygments_lexer": "ipython3",
   "version": "3.7.1"
  }
 },
 "nbformat": 4,
 "nbformat_minor": 2
}
