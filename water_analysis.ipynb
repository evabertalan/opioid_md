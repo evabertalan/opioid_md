{
 "cells": [
  {
   "cell_type": "code",
   "execution_count": 1,
   "metadata": {},
   "outputs": [],
   "source": [
    "import matplotlib.pyplot as plt\n",
    "%load_ext autoreload\n",
    "%autoreload 2\n",
    "%matplotlib inline"
   ]
  },
  {
   "cell_type": "code",
   "execution_count": 2,
   "metadata": {},
   "outputs": [],
   "source": [
    "from mdhbond import HbondAnalysis\n",
    "from mdhbond import WireAnalysis\n",
    "#from mdhbond import ExplicitWireAnalysis\n",
    "#psf = '/net/grouphome/ag-bondar/Michail/for-Buzar-Karatanou/Michalis_test_case/read_protein_mb_9_e162u_3x.psf'\n",
    "#dcd = '/net/grouphome/ag-bondar/Michail/for-Buzar-Karatanou/Michalis_test_case/chr_e162unp_n25_to_n28_PBC.dcd'"
   ]
  },
  {
   "cell_type": "code",
   "execution_count": 3,
   "metadata": {},
   "outputs": [],
   "source": [
    "PDB_CODE = '4N6H'\n",
    "SEQ = 'Na'\n",
    "folder = '../'+PDB_CODE+SEQ+'/'\n",
    "results_folder = folder+'results/'\n",
    "plot_folder = results_folder+'plots/'"
   ]
  },
  {
   "cell_type": "code",
   "execution_count": 4,
   "metadata": {},
   "outputs": [],
   "source": [
    "psf = results_folder+'step5_assembly.xplor_ext.psf'\n",
    "dcd = results_folder+'namd/step7.8_production.dcd-pbc.dcd'"
   ]
  },
  {
   "cell_type": "code",
   "execution_count": null,
   "metadata": {},
   "outputs": [],
   "source": [
    "hba = HbondAnalysis('protein', psf , dcd , residuewise=False, additional_acceptors=['O'] , additional_donors=['N'])"
   ]
  },
  {
   "cell_type": "code",
   "execution_count": null,
   "metadata": {},
   "outputs": [],
   "source": [
    "hba.set_hbonds_in_selection(exclude_backbone_backbone=False)\n",
    "# print(hba.current_results)\n",
    "hba.draw_graph(filename=plot_folder+'hbonds_default.png')"
   ]
  },
  {
   "cell_type": "code",
   "execution_count": null,
   "metadata": {},
   "outputs": [],
   "source": [
    "hba.compute_i4_bonds()"
   ]
  },
  {
   "cell_type": "code",
   "execution_count": null,
   "metadata": {},
   "outputs": [],
   "source": [
    "hba.draw_occupancy_histogram(0.1, 0.1 )"
   ]
  },
  {
   "cell_type": "code",
   "execution_count": null,
   "metadata": {},
   "outputs": [],
   "source": [
    "#hba.filter_occupancy(0.999, use_filtered=False)\n",
    "#hba.draw_graph(use_filtered=False , filename= 'hba_graph.png')"
   ]
  },
  {
   "cell_type": "code",
   "execution_count": null,
   "metadata": {},
   "outputs": [],
   "source": [
    "#hba.filter_occupancy(0.999, use_filtered=False)\n",
    "#graph1 = hba.draw_graph(use_filtered=False ,color_dict={'3UG9': 'blue' , 'MON2':'orange'}, filename= 'chr_test_case_bonds_color_by_segment2.png')"
   ]
  },
  {
   "cell_type": "code",
   "execution_count": null,
   "metadata": {},
   "outputs": [],
   "source": [
    "hba.filter_occupancy(0.5)\n",
    "hba.draw_graph(color_dict={'6b73': 'red'}, filename='first_graph.png')"
   ]
  },
  {
   "cell_type": "code",
   "execution_count": null,
   "metadata": {},
   "outputs": [],
   "source": [
    "hba.filter_connected_component('PROA-ASP-84-N', use_filtered=False)\n",
    "hba.draw_graph(filename='boby.png')"
   ]
  },
  {
   "cell_type": "code",
   "execution_count": null,
   "metadata": {},
   "outputs": [],
   "source": [
    "hba.draw_sum_of_connections_timeseries()"
   ]
  },
  {
   "cell_type": "code",
   "execution_count": null,
   "metadata": {},
   "outputs": [],
   "source": [
    "hba.draw_residue_residue_heatmap()"
   ]
  },
  {
   "cell_type": "code",
   "execution_count": null,
   "metadata": {},
   "outputs": [],
   "source": [
    "# hba.filter_all_paths('3UG9-LYR-248', '3UG9-GLU-81', use_filtered=False)\n",
    "# hba.draw_graph(filename='all_paths_LYR_GLU81.png')\n",
    "# hba.compute_combined_occupancy()\n",
    "# #This function will show the path connecting root and end node"
   ]
  },
  {
   "cell_type": "code",
   "execution_count": null,
   "metadata": {},
   "outputs": [],
   "source": [
    "# hba.filter_single_path('3UG9-LYR-248' ,'3UG9-GLU-114', '3UG9-LYS-84', '3UG9-GLU-81', use_filtered=False)\n",
    "# hba.draw_graph(filename='all_paths_LYR_GLU114_LYS84_GLU81.png')\n",
    "# hba.compute_combined_occupancy()\n",
    "# #This function will show the path connecting the nodes that you inserted expicitely."
   ]
  },
  {
   "cell_type": "code",
   "execution_count": null,
   "metadata": {},
   "outputs": [],
   "source": [
    "hba.set_hbonds_in_selection_and_water_around(3*3.5)"
   ]
  },
  {
   "cell_type": "code",
   "execution_count": null,
   "metadata": {},
   "outputs": [],
   "source": [
    "hba.filter_occupancy(0.1)\n",
    "hba.draw_graph(use_filtered=True)"
   ]
  },
  {
   "cell_type": "code",
   "execution_count": null,
   "metadata": {},
   "outputs": [],
   "source": [
    "def writeToFile(data, filename):\n",
    "    with open(filename , \"w\") as f:\n",
    "        for key in data:\n",
    "            f.write(\"{} {}\\n\".format(key,(data[key]),))\n",
    "\n",
    "import numpy as _np\n",
    "def average_timeseries(hbond_dict):\n",
    "    return {key:_np.mean(hbond_dict[key]) for key in hbond_dict} "
   ]
  },
  {
   "cell_type": "code",
   "execution_count": null,
   "metadata": {
    "scrolled": true
   },
   "outputs": [],
   "source": [
    "avg = average_timeseries(hba.filtered_results)\n",
    "print(avg)\n",
    "writeToFile(avg, 'chr_e162unp_bonds_3HS_04.dat')"
   ]
  },
  {
   "cell_type": "code",
   "execution_count": null,
   "metadata": {},
   "outputs": [],
   "source": [
    "%timeit hba.filter_water_in_hydration_shells(3, use_filtered=False)"
   ]
  },
  {
   "cell_type": "code",
   "execution_count": null,
   "metadata": {},
   "outputs": [],
   "source": [
    "res_times = hba.compute_mean_residence_time(use_filtered=False)"
   ]
  },
  {
   "cell_type": "code",
   "execution_count": null,
   "metadata": {},
   "outputs": [],
   "source": [
    "print(res_times)"
   ]
  },
  {
   "cell_type": "code",
   "execution_count": null,
   "metadata": {},
   "outputs": [],
   "source": [
    "hba.draw_hydration_shell_occupancy_histogram(0.1, 0.1)"
   ]
  },
  {
   "cell_type": "code",
   "execution_count": null,
   "metadata": {},
   "outputs": [],
   "source": [
    "wa = WireAnalysis('protein', psf , dcd)"
   ]
  },
  {
   "cell_type": "code",
   "execution_count": null,
   "metadata": {},
   "outputs": [],
   "source": [
    "wa.set_water_wires(max_water=5)"
   ]
  },
  {
   "cell_type": "code",
   "execution_count": null,
   "metadata": {},
   "outputs": [],
   "source": [
    "av_per_wire = wa.compute_average_water_per_wire()"
   ]
  },
  {
   "cell_type": "code",
   "execution_count": null,
   "metadata": {},
   "outputs": [],
   "source": [
    "# print(av_per_wire)"
   ]
  },
  {
   "cell_type": "code",
   "execution_count": null,
   "metadata": {},
   "outputs": [],
   "source": [
    "projection = wa.compute_wire_projection()"
   ]
  },
  {
   "cell_type": "code",
   "execution_count": null,
   "metadata": {},
   "outputs": [],
   "source": [
    "print(projection)"
   ]
  },
  {
   "cell_type": "code",
   "execution_count": null,
   "metadata": {},
   "outputs": [],
   "source": [
    "def writeToFile(data, filename):\n",
    "    with open(filename , \"w\") as f:\n",
    "        for key in data:\n",
    "            f.write(\"{} {}\\n\".format(key,(data[key]),))\n",
    "\n",
    "import numpy as _np\n",
    "def average_timeseries(hbond_dict):\n",
    "    return {key:_np.mean(hbond_dict[key]) for key in hbond_dict}        "
   ]
  },
  {
   "cell_type": "code",
   "execution_count": null,
   "metadata": {
    "scrolled": true
   },
   "outputs": [],
   "source": [
    "datas=wa.compute_average_water_per_wire()\n",
    "# print (datas)"
   ]
  },
  {
   "cell_type": "code",
   "execution_count": null,
   "metadata": {},
   "outputs": [],
   "source": [
    "writeToFile(datas, 'average_water_per_wire.dat')"
   ]
  },
  {
   "cell_type": "code",
   "execution_count": null,
   "metadata": {},
   "outputs": [],
   "source": [
    "wa.filter_occupancy(0.1, use_filtered=False)\n",
    "wa.draw_graph(filename='chr_wires_default2.png')"
   ]
  },
  {
   "cell_type": "code",
   "execution_count": null,
   "metadata": {},
   "outputs": [],
   "source": [
    "import numpy as _np\n",
    "def average_timeseries(hbond_dict):\n",
    "    return {key:_np.mean(hbond_dict[key]) for key in hbond_dict}\n",
    "\n",
    "avg = average_timeseries(wa.filtered_results)\n",
    "print (avg)\n",
    "\n",
    "def writeToFile(data, filename):\n",
    "    with open(filename , \"w\") as f:\n",
    "        for key in data:\n",
    "            f.write(\"{} {}\\n\".format(key,(data[key]),))\n",
    "            \n",
    "            \n",
    "writeToFile(avg , 'chr_e162unp_wires_01.dat')      "
   ]
  },
  {
   "cell_type": "code",
   "execution_count": null,
   "metadata": {},
   "outputs": [],
   "source": [
    "wa.compute_combined_occupancy()"
   ]
  },
  {
   "cell_type": "code",
   "execution_count": null,
   "metadata": {},
   "outputs": [],
   "source": [
    "wa.filter_connected_component('MON2-LYR-248', use_filtered=False)\n",
    "wa.draw_graph(color_dict={'3UG9' : 'blue', 'MON2' : 'orange'})"
   ]
  },
  {
   "cell_type": "code",
   "execution_count": null,
   "metadata": {},
   "outputs": [],
   "source": [
    "wa.compute_combined_occupancy(wa.)"
   ]
  },
  {
   "cell_type": "code",
   "execution_count": null,
   "metadata": {
    "scrolled": true
   },
   "outputs": [],
   "source": [
    "wa.filter_all_paths('MON2-LYR-248', 'MON2-LYS-84', only_shortest=False ,use_filtered=False)\n",
    "wa.draw_graph(filename='wires_all_paths__MON2_LYR_GLU88.png')\n",
    "wa.compute_combined_occupancy()"
   ]
  },
  {
   "cell_type": "code",
   "execution_count": null,
   "metadata": {},
   "outputs": [],
   "source": [
    "wa.compute_combined_occupancy()"
   ]
  },
  {
   "cell_type": "code",
   "execution_count": null,
   "metadata": {},
   "outputs": [],
   "source": [
    "ewa = ExplicitWireAnalysis(psf, dcd, 'protein or resname LYR')"
   ]
  },
  {
   "cell_type": "code",
   "execution_count": null,
   "metadata": {},
   "outputs": [],
   "source": [
    "ewa.set_explicit_water_wires(5)"
   ]
  },
  {
   "cell_type": "code",
   "execution_count": null,
   "metadata": {},
   "outputs": [],
   "source": [
    "ewa.filter_occupancy(0.1, use_filtered=False)"
   ]
  },
  {
   "cell_type": "code",
   "execution_count": null,
   "metadata": {},
   "outputs": [],
   "source": [
    "ewa.draw_graph(filename='expicit_wires_01.png')"
   ]
  },
  {
   "cell_type": "code",
   "execution_count": null,
   "metadata": {},
   "outputs": [],
   "source": []
  }
 ],
 "metadata": {
  "kernelspec": {
   "display_name": "Python 3",
   "language": "python",
   "name": "python3"
  },
  "language_info": {
   "codemirror_mode": {
    "name": "ipython",
    "version": 3
   },
   "file_extension": ".py",
   "mimetype": "text/x-python",
   "name": "python",
   "nbconvert_exporter": "python",
   "pygments_lexer": "ipython3",
   "version": "3.7.1"
  }
 },
 "nbformat": 4,
 "nbformat_minor": 2
}
